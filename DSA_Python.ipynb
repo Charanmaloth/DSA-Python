{
  "nbformat": 4,
  "nbformat_minor": 0,
  "metadata": {
    "colab": {
      "provenance": [],
      "authorship_tag": "ABX9TyOpEmxr0Sg7XQ7i8ypcPYtg",
      "include_colab_link": true
    },
    "kernelspec": {
      "name": "python3",
      "display_name": "Python 3"
    },
    "language_info": {
      "name": "python"
    }
  },
  "cells": [
    {
      "cell_type": "markdown",
      "metadata": {
        "id": "view-in-github",
        "colab_type": "text"
      },
      "source": [
        "<a href=\"https://colab.research.google.com/github/Charanmaloth/DSA-Python/blob/main/DSA_Python.ipynb\" target=\"_parent\"><img src=\"https://colab.research.google.com/assets/colab-badge.svg\" alt=\"Open In Colab\"/></a>"
      ]
    },
    {
      "cell_type": "code",
      "source": [
        "!git clone https://github.com/Charanmaloth/DSA-Python.git"
      ],
      "metadata": {
        "colab": {
          "base_uri": "https://localhost:8080/"
        },
        "id": "YU0bTrReFrpp",
        "outputId": "2845c891-00ce-49af-9fc4-1c5df47957d6"
      },
      "execution_count": 3,
      "outputs": [
        {
          "output_type": "stream",
          "name": "stdout",
          "text": [
            "fatal: destination path 'DSA-Python' already exists and is not an empty directory.\n"
          ]
        }
      ]
    },
    {
      "cell_type": "code",
      "source": [
        "!pip install geopandas"
      ],
      "metadata": {
        "colab": {
          "base_uri": "https://localhost:8080/"
        },
        "id": "5UhW4NN3F2zc",
        "outputId": "34d0cb7f-6278-44a3-e3b8-819d53f271a5"
      },
      "execution_count": 4,
      "outputs": [
        {
          "output_type": "stream",
          "name": "stdout",
          "text": [
            "Requirement already satisfied: geopandas in /usr/local/lib/python3.10/dist-packages (0.14.4)\n",
            "Requirement already satisfied: fiona>=1.8.21 in /usr/local/lib/python3.10/dist-packages (from geopandas) (1.9.6)\n",
            "Requirement already satisfied: numpy>=1.22 in /usr/local/lib/python3.10/dist-packages (from geopandas) (1.26.4)\n",
            "Requirement already satisfied: packaging in /usr/local/lib/python3.10/dist-packages (from geopandas) (24.1)\n",
            "Requirement already satisfied: pandas>=1.4.0 in /usr/local/lib/python3.10/dist-packages (from geopandas) (2.1.4)\n",
            "Requirement already satisfied: pyproj>=3.3.0 in /usr/local/lib/python3.10/dist-packages (from geopandas) (3.6.1)\n",
            "Requirement already satisfied: shapely>=1.8.0 in /usr/local/lib/python3.10/dist-packages (from geopandas) (2.0.5)\n",
            "Requirement already satisfied: attrs>=19.2.0 in /usr/local/lib/python3.10/dist-packages (from fiona>=1.8.21->geopandas) (24.2.0)\n",
            "Requirement already satisfied: certifi in /usr/local/lib/python3.10/dist-packages (from fiona>=1.8.21->geopandas) (2024.7.4)\n",
            "Requirement already satisfied: click~=8.0 in /usr/local/lib/python3.10/dist-packages (from fiona>=1.8.21->geopandas) (8.1.7)\n",
            "Requirement already satisfied: click-plugins>=1.0 in /usr/local/lib/python3.10/dist-packages (from fiona>=1.8.21->geopandas) (1.1.1)\n",
            "Requirement already satisfied: cligj>=0.5 in /usr/local/lib/python3.10/dist-packages (from fiona>=1.8.21->geopandas) (0.7.2)\n",
            "Requirement already satisfied: six in /usr/local/lib/python3.10/dist-packages (from fiona>=1.8.21->geopandas) (1.16.0)\n",
            "Requirement already satisfied: python-dateutil>=2.8.2 in /usr/local/lib/python3.10/dist-packages (from pandas>=1.4.0->geopandas) (2.8.2)\n",
            "Requirement already satisfied: pytz>=2020.1 in /usr/local/lib/python3.10/dist-packages (from pandas>=1.4.0->geopandas) (2024.1)\n",
            "Requirement already satisfied: tzdata>=2022.1 in /usr/local/lib/python3.10/dist-packages (from pandas>=1.4.0->geopandas) (2024.1)\n"
          ]
        }
      ]
    },
    {
      "cell_type": "markdown",
      "source": [
        "# DSA (Data Structures & Algorithms)"
      ],
      "metadata": {
        "id": "QjCH9NyF5qaK"
      }
    },
    {
      "cell_type": "markdown",
      "source": [
        "# **SEARCHING**"
      ],
      "metadata": {
        "id": "PhJDWIH6zi1H"
      }
    },
    {
      "cell_type": "markdown",
      "source": [
        "Linear Search"
      ],
      "metadata": {
        "id": "JabHs49iB0W0"
      }
    },
    {
      "cell_type": "code",
      "source": [
        "def linear_search(arr, length, item):\n",
        "  for i in range(0, length):\n",
        "    if arr[i] == item:\n",
        "      return i\n",
        "  return -1\n",
        "arr= [10,20,15,16,18,35,25,45]\n",
        "item = int(input())\n",
        "length = len(arr)\n",
        "res = linear_search(arr, length, item)\n",
        "if res == -1:\n",
        "  print('The item {} was not found'.format(item))\n",
        "else:\n",
        "  print('The item {} was found {} index'.format(item,res))"
      ],
      "metadata": {
        "colab": {
          "base_uri": "https://localhost:8080/"
        },
        "id": "91gCubCTB2jq",
        "outputId": "e200a893-4266-4cf7-9869-e9ca2d469330"
      },
      "execution_count": null,
      "outputs": [
        {
          "output_type": "stream",
          "name": "stdout",
          "text": [
            "35\n",
            "The item 35 was found 5 index\n"
          ]
        }
      ]
    },
    {
      "cell_type": "markdown",
      "source": [
        "Binary Search"
      ],
      "metadata": {
        "id": "HKAzNWbRCogk"
      }
    },
    {
      "cell_type": "code",
      "source": [
        "def binary_search(arr, length, item):\n",
        "  left = 0\n",
        "  right = length - 1\n",
        "  while left <= right:\n",
        "    mid = (left + right)//2\n",
        "    if item > arr[mid]:\n",
        "      left = mid + 1\n",
        "    elif item < arr[mid]:\n",
        "      right = mid - 1\n",
        "    else:\n",
        "      return mid\n",
        "  return -1\n",
        "arr= [10,20,15,16,18,35,25,45]\n",
        "item = int(input())\n",
        "arr.sort()\n",
        "length = len(arr)\n",
        "res = binary_search(arr, length, item)\n",
        "if res == -1:\n",
        "  print('The item {} was not found'.format(item))\n",
        "else:\n",
        "  print('The item {} was found {} index'.format(item,res))"
      ],
      "metadata": {
        "colab": {
          "base_uri": "https://localhost:8080/"
        },
        "id": "CykvMgJMJiRw",
        "outputId": "794d27ca-b4ec-4333-dc07-7c59d437e88a"
      },
      "execution_count": null,
      "outputs": [
        {
          "output_type": "stream",
          "name": "stdout",
          "text": [
            "35\n",
            "The item 35 was found 6 index\n"
          ]
        }
      ]
    },
    {
      "cell_type": "markdown",
      "source": [
        "# **SORTING**"
      ],
      "metadata": {
        "id": "yDqqXC32zpDm"
      }
    },
    {
      "cell_type": "markdown",
      "source": [
        "Selection Sort"
      ],
      "metadata": {
        "id": "sGkbVLBgL7ZR"
      }
    },
    {
      "cell_type": "code",
      "source": [
        "def sort(arr):\n",
        "  n = len(arr)\n",
        "  for i in range(0,n):\n",
        "    min_index = i\n",
        "    for j in range(i+1,n):\n",
        "      if arr[j]<arr[min_index]:\n",
        "        min_index = j\n",
        "    #Swapping\n",
        "    temp = arr[min_index]\n",
        "    arr[min_index] = arr[i]\n",
        "    arr[i] = temp\n",
        "arr = [5,9,8,1,2]\n",
        "sort(arr)\n",
        "print(arr)"
      ],
      "metadata": {
        "colab": {
          "base_uri": "https://localhost:8080/"
        },
        "id": "-aUetcWuL4fU",
        "outputId": "f368bd51-2f4c-4551-9424-8c7291a06b06"
      },
      "execution_count": null,
      "outputs": [
        {
          "output_type": "stream",
          "name": "stdout",
          "text": [
            "[1, 2, 5, 8, 9]\n"
          ]
        }
      ]
    },
    {
      "cell_type": "markdown",
      "source": [
        "Bubble Sort"
      ],
      "metadata": {
        "id": "rQKlxO4dPvf1"
      }
    },
    {
      "cell_type": "code",
      "source": [
        "def sort(arr):\n",
        "  n = len(arr)\n",
        "  for i in range(1,n):\n",
        "    for j in range(0,n-i):\n",
        "      if arr[j]>arr[j+1]:\n",
        "        temp = arr[j]\n",
        "        arr[j] = arr[j+1]\n",
        "        arr[j+1]=temp\n",
        "arr = [5,9,8,1,2]\n",
        "sort(arr)\n",
        "print(arr)"
      ],
      "metadata": {
        "colab": {
          "base_uri": "https://localhost:8080/"
        },
        "id": "6BhJy273PxtQ",
        "outputId": "d36d6be0-444a-4335-a7e1-83354d92a67b"
      },
      "execution_count": null,
      "outputs": [
        {
          "output_type": "stream",
          "name": "stdout",
          "text": [
            "[1, 2, 5, 8, 9]\n"
          ]
        }
      ]
    },
    {
      "cell_type": "markdown",
      "source": [
        "Insertion Sort"
      ],
      "metadata": {
        "id": "lwmrduZOidw2"
      }
    },
    {
      "cell_type": "code",
      "source": [
        "def sort(arr):\n",
        "  for i in range(1,len(arr)):\n",
        "    j = i - 1\n",
        "    while j >= 0:\n",
        "      if arr[j] > arr[j+1]:\n",
        "        temp = arr[j]\n",
        "        arr[j] = arr[j+1]\n",
        "        arr[j+1] = temp\n",
        "      else:\n",
        "        break\n",
        "      j = j - 1\n",
        "arr = [2,9,5,1,3]\n",
        "sort(arr)\n",
        "print(arr)"
      ],
      "metadata": {
        "colab": {
          "base_uri": "https://localhost:8080/"
        },
        "id": "9hZEhSEcihsE",
        "outputId": "18e18234-7e44-4629-c744-2768d5bcc816"
      },
      "execution_count": null,
      "outputs": [
        {
          "output_type": "stream",
          "name": "stdout",
          "text": [
            "[1, 2, 3, 5, 9]\n"
          ]
        }
      ]
    },
    {
      "cell_type": "markdown",
      "source": [
        "Count Sort"
      ],
      "metadata": {
        "id": "_il4Wej6Wsny"
      }
    },
    {
      "cell_type": "code",
      "source": [
        "def countSort(arr,min,max):\n",
        "  range_val = max-min+1\n",
        "  ans=[0]*len(arr) #all arr initially [0,0,.......]\n",
        "\n",
        "  farr=[0]*range_val #farr upto range [0,0,....]\n",
        "\n",
        "  for i in range(len(arr)):\n",
        "    farr[arr[i]-min]+=1    #Counting Freq. Of num\n",
        "\n",
        "  for i in range(1,len(farr)):\n",
        "    farr[i]+=farr[i-1]      #Prefix sum\n",
        "\n",
        "  for i in range(len(arr)-1,-1,-1):\n",
        "    pos=farr[arr[i]-min]-1     #Decrementing one from the each element\n",
        "    ans[pos]=arr[i]            #arranging elements in ans array in order\n",
        "    farr[arr[i]-min]-=1\n",
        "\n",
        "  for i in range(len(arr)):    #Traversing elements in original array from ans array\n",
        "    arr[i]=ans[i]\n",
        "arr = [8,4,2,4,2,3,2,8,5,3,5,4,7,6,8,7]\n",
        "countSort(arr,min(arr),max(arr))\n",
        "print(arr)"
      ],
      "metadata": {
        "colab": {
          "base_uri": "https://localhost:8080/"
        },
        "id": "ItCFZBfUWvqf",
        "outputId": "22100a2a-eb2a-456b-ed9f-dca2cb8becb9"
      },
      "execution_count": null,
      "outputs": [
        {
          "output_type": "stream",
          "name": "stdout",
          "text": [
            "[2, 2, 2, 3, 3, 4, 4, 4, 5, 5, 6, 7, 7, 8, 8, 8]\n"
          ]
        }
      ]
    },
    {
      "cell_type": "markdown",
      "source": [
        "Radix Sort"
      ],
      "metadata": {
        "id": "-TTmPOVwfPEb"
      }
    },
    {
      "cell_type": "code",
      "source": [
        "import sys\n",
        "def radixSort(arr):\n",
        "    max_val = max(arr)  # Use the built-in max function\n",
        "    exp = 1\n",
        "    while exp <= max_val:\n",
        "        countSort(arr, exp)\n",
        "        exp *= 10\n",
        "def countSort(arr, exp):\n",
        "    range_val = 10\n",
        "    n = len(arr)\n",
        "    ans = [0] * n\n",
        "    farr = [0] * range_val\n",
        "    # Count occurrences\n",
        "    for i in range(n):\n",
        "        index = (arr[i] // exp) % 10\n",
        "        farr[index] += 1\n",
        "    # Update count array\n",
        "    for i in range(1, range_val):\n",
        "        farr[i] += farr[i - 1]\n",
        "    # Build the output array\n",
        "    for i in range(n - 1, -1, -1):\n",
        "        index = (arr[i] // exp) % 10\n",
        "        pos = farr[index] - 1\n",
        "        ans[pos] = arr[i]\n",
        "        farr[index] -= 1\n",
        "    # Copy the sorted elements back to the original array\n",
        "    for i in range(n):\n",
        "        arr[i] = ans[i]\n",
        "arr = [267,358,294]\n",
        "radixSort(arr)\n",
        "print(arr)\n"
      ],
      "metadata": {
        "colab": {
          "base_uri": "https://localhost:8080/"
        },
        "id": "Hqxs7YZ9fNIx",
        "outputId": "0fff6aa4-d92a-43db-e700-f7dffce5df4f"
      },
      "execution_count": null,
      "outputs": [
        {
          "output_type": "stream",
          "name": "stdout",
          "text": [
            "[267, 294, 358]\n"
          ]
        }
      ]
    },
    {
      "cell_type": "markdown",
      "source": [
        "# **TREES**"
      ],
      "metadata": {
        "id": "GWma5dMIvuLt"
      }
    },
    {
      "cell_type": "markdown",
      "source": [
        "Binary Tree of Preorder PostOrder & Inorder"
      ],
      "metadata": {
        "id": "4UjcbNoNv00Y"
      }
    },
    {
      "cell_type": "code",
      "source": [
        "class Node:\n",
        "  def __init__(self,key):\n",
        "    self.left = None\n",
        "    self.right = None\n",
        "    self.val = key\n",
        "def Inorder(root):\n",
        "  if root:\n",
        "    Inorder(root.left)\n",
        "    print(root.val,end=\" \")\n",
        "    Inorder(root.right)\n",
        "def Preorder(root):\n",
        "  if root:\n",
        "    print(root.val,end=' ')\n",
        "    Preorder(root.left)\n",
        "    Preorder(root.right)\n",
        "def Postorder(root):\n",
        "  if root:\n",
        "    Postorder(root.left)\n",
        "    Postorder(root.right)\n",
        "    print(root.val,end=' ')\n",
        "root = Node(1)\n",
        "root.left = Node(2)\n",
        "root.right = Node(3)\n",
        "root.left.left = Node(4)\n",
        "root.left.right = Node(5)\n",
        "Preorder(root)\n",
        "print('\\n')\n",
        "Inorder(root)\n",
        "print('\\n')\n",
        "Postorder(root)\n",
        "print('\\n')"
      ],
      "metadata": {
        "colab": {
          "base_uri": "https://localhost:8080/"
        },
        "id": "OIxVFY5mwBl4",
        "outputId": "4f2e4c7c-f109-4677-cdfc-d580cadc05c1"
      },
      "execution_count": null,
      "outputs": [
        {
          "output_type": "stream",
          "name": "stdout",
          "text": [
            "1 2 4 5 3 \n",
            "\n",
            "4 2 5 1 3 \n",
            "\n",
            "4 5 2 3 1 \n",
            "\n"
          ]
        }
      ]
    },
    {
      "cell_type": "markdown",
      "source": [
        "Max Depth/Height in Tree"
      ],
      "metadata": {
        "id": "fifKwYwVyClI"
      }
    },
    {
      "cell_type": "code",
      "source": [
        "class Node:\n",
        "  def __init__(self,val):\n",
        "    self.left = None\n",
        "    self.right = None\n",
        "    self.data = val\n",
        "def maxHeight(node):\n",
        "  if node is None:\n",
        "    return 0\n",
        "  else:\n",
        "    return(1+max(maxHeight(node.left),maxHeight(node.right)))\n",
        "    # lHeight = maxHeight(node.left)\n",
        "    # rHeight = maxHeight(node.right)\n",
        "    # if (lHeight > rHeight):\n",
        "    #   return lHeight + 1\n",
        "    # else:\n",
        "    #   return rHeight + 1\n",
        "root = Node(1)\n",
        "root.left = Node(2)\n",
        "root.right = Node(3)\n",
        "root.left.left = Node(4)\n",
        "root.left.right = Node(5)\n",
        "maxHeight(root)"
      ],
      "metadata": {
        "colab": {
          "base_uri": "https://localhost:8080/"
        },
        "id": "Ut2VcBZ2yNZh",
        "outputId": "abbc3360-828d-4a34-e938-54c8be7797e1"
      },
      "execution_count": null,
      "outputs": [
        {
          "output_type": "execute_result",
          "data": {
            "text/plain": [
              "3"
            ]
          },
          "metadata": {},
          "execution_count": 7
        }
      ]
    },
    {
      "cell_type": "markdown",
      "source": [
        "Print Nodes At Distance K"
      ],
      "metadata": {
        "id": "iC1GHtsE_uoT"
      }
    },
    {
      "cell_type": "code",
      "source": [
        "class Node:\n",
        "  def __init__(self,val):\n",
        "    self.left = None\n",
        "    self.right = None\n",
        "    self.data = val\n",
        "def PrintKDis(node,k):\n",
        "  if node is None:\n",
        "    return\n",
        "  if k == 0:\n",
        "    print(node.data)\n",
        "  else:\n",
        "    PrintKDis(node.left, k-1)\n",
        "    PrintKDis(node.right, k-1)\n",
        "root = Node(1)\n",
        "root.left = Node(2)\n",
        "root.right = Node(3)\n",
        "root.left.left = Node(4)\n",
        "root.left.right = Node(5)\n",
        "k = 2\n",
        "PrintKDis(root, k)"
      ],
      "metadata": {
        "colab": {
          "base_uri": "https://localhost:8080/"
        },
        "id": "u0AXVSOq_1gQ",
        "outputId": "78ce03e1-77de-406e-f607-5b7ca42cd981"
      },
      "execution_count": null,
      "outputs": [
        {
          "output_type": "stream",
          "name": "stdout",
          "text": [
            "4\n",
            "5\n"
          ]
        }
      ]
    },
    {
      "cell_type": "markdown",
      "source": [
        "Level Order Traversal for Trees"
      ],
      "metadata": {
        "id": "nf9dj6N-IsyY"
      }
    },
    {
      "cell_type": "code",
      "source": [
        "class Node:\n",
        "  def __init__(self,val):\n",
        "    self.left = None\n",
        "    self.right = None\n",
        "    self.data = val\n",
        "def displayLevelOrder(root):\n",
        "  if root is None:\n",
        "    return\n",
        "  queue = []\n",
        "  queue.append(root)\n",
        "  while len(queue) > 0:\n",
        "    print(queue[0].data, end = ' ')\n",
        "    node = queue.pop(0)\n",
        "    if node.left is not None:\n",
        "      queue.append(node.left)\n",
        "    if node.right is not None:\n",
        "      queue.append(node.right)\n",
        "root = Node(1)\n",
        "root.left = Node(2)\n",
        "root.right = Node(3)\n",
        "root.left.left = Node(4)\n",
        "root.left.right = Node(5)\n",
        "root.right.right = Node(6)\n",
        "root.right.right.left = Node(7)\n",
        "root.right.right.right = Node(8)\n",
        "displayLevelOrder(root)"
      ],
      "metadata": {
        "colab": {
          "base_uri": "https://localhost:8080/"
        },
        "id": "-gZQVHEXIyWl",
        "outputId": "e22b3099-1923-4286-f475-6e1bf2520e80"
      },
      "execution_count": null,
      "outputs": [
        {
          "output_type": "stream",
          "name": "stdout",
          "text": [
            "1 2 3 4 5 6 7 8 "
          ]
        }
      ]
    },
    {
      "cell_type": "markdown",
      "source": [
        "Size Of Binary Tree"
      ],
      "metadata": {
        "id": "OCN3ATzKNUS3"
      }
    },
    {
      "cell_type": "code",
      "source": [
        "class Node:\n",
        "  def __init__(self,val):\n",
        "    self.left = None\n",
        "    self.right = None\n",
        "    self.data = val\n",
        "def sizeofBinary(root):\n",
        "  if root is None:\n",
        "    return\n",
        "  queue = []\n",
        "  queue.append(root)\n",
        "  size = 0\n",
        "  while len(queue) > 0:\n",
        "    node = queue.pop(0)\n",
        "    size = size + 1\n",
        "    if node.left is not None:\n",
        "      queue.append(node.left)\n",
        "    if node.right is not None:\n",
        "      queue.append(node.right)\n",
        "  return size\n",
        "root = Node(1)\n",
        "root.left = Node(2)\n",
        "root.right = Node(3)\n",
        "root.left.left = Node(4)\n",
        "root.left.right = Node(5)\n",
        "root.right.right = Node(6)\n",
        "root.right.right.left = Node(7)\n",
        "root.right.right.right = Node(8)\n",
        "sizeofBinary(root)"
      ],
      "metadata": {
        "colab": {
          "base_uri": "https://localhost:8080/"
        },
        "id": "Dq-Tkab9NZQ0",
        "outputId": "195d97e4-e33d-444a-e51b-57a9933b920b"
      },
      "execution_count": null,
      "outputs": [
        {
          "output_type": "execute_result",
          "data": {
            "text/plain": [
              "8"
            ]
          },
          "metadata": {},
          "execution_count": 14
        }
      ]
    },
    {
      "cell_type": "markdown",
      "source": [
        "Maximum Element in an Binary Tree"
      ],
      "metadata": {
        "id": "6ykVFI1tPTq_"
      }
    },
    {
      "cell_type": "code",
      "source": [
        "import sys\n",
        "class Node:\n",
        "    def __init__(self, val):\n",
        "        self.left = None\n",
        "        self.right = None\n",
        "        self.data = val\n",
        "def calcMax(node):\n",
        "    if node is None:\n",
        "        return -sys.maxsize + 1;\n",
        "    else:\n",
        "        return max(node.data, max(calcMax(node.left), calcMax(node.right)))\n",
        "root = Node(20)\n",
        "root.left = Node(70)\n",
        "root.right = Node(90)\n",
        "root.left.left = Node(30)\n",
        "root.left.right = Node(40)\n",
        "root.right.right = Node(70)\n",
        "print(\"The Max in tree is : {}\".format(calcMax(root)))"
      ],
      "metadata": {
        "colab": {
          "base_uri": "https://localhost:8080/"
        },
        "id": "9a1U6qaiPalX",
        "outputId": "4edbed87-d140-4d19-dcae-0dd0c5e4a047"
      },
      "execution_count": null,
      "outputs": [
        {
          "output_type": "stream",
          "name": "stdout",
          "text": [
            "The Max in tree is : 90\n"
          ]
        }
      ]
    },
    {
      "cell_type": "markdown",
      "source": [
        "Left View Method - I"
      ],
      "metadata": {
        "id": "2eI_mMpakrMr"
      }
    },
    {
      "cell_type": "code",
      "source": [
        "class Node:\n",
        "    def __init__(self, val):\n",
        "        self.left = None\n",
        "        self.right = None\n",
        "        self.data = val\n",
        "def print_left_view_helper(root):\n",
        "  max_level_visited = [0]\n",
        "  print_left_view(root,max_level_visited,1)\n",
        "\n",
        "def print_left_view(node, max_level_visited, curr_level):\n",
        "  if node is None:\n",
        "    return\n",
        "\n",
        "  if max_level_visited[0] < curr_level:\n",
        "    print(node.data, end=' ')\n",
        "    max_level_visited[0] = curr_level\n",
        "  print_left_view(node.left, max_level_visited, curr_level+1)\n",
        "  print_left_view(node.right, max_level_visited, curr_level+1)\n",
        "\n",
        "root = Node(20)\n",
        "root.left = Node(70)\n",
        "root.right = Node(90)\n",
        "root.left.left = Node(30)\n",
        "root.left.right = Node(40)\n",
        "root.right.right = Node(70)\n",
        "print_left_view_helper(root)"
      ],
      "metadata": {
        "colab": {
          "base_uri": "https://localhost:8080/"
        },
        "id": "WRcIkjGtk10J",
        "outputId": "f85f1226-e066-4102-b45d-cf67efff8f60"
      },
      "execution_count": null,
      "outputs": [
        {
          "output_type": "stream",
          "name": "stdout",
          "text": [
            "20 70 30 "
          ]
        }
      ]
    },
    {
      "cell_type": "markdown",
      "source": [
        "Left View In a Binary Tree - II"
      ],
      "metadata": {
        "id": "qnxp4cYlkqgb"
      }
    },
    {
      "cell_type": "code",
      "source": [
        "class Node:\n",
        "    def __init__(self, val):\n",
        "        self.left = None\n",
        "        self.right = None\n",
        "        self.data = val\n",
        "\n",
        "def print_left_view(node):\n",
        "  if node is None:\n",
        "    return\n",
        "\n",
        "  q = [node]\n",
        "  while q:\n",
        "    for i in range(len(q)):\n",
        "      temp = q[0]\n",
        "      q.pop(0)\n",
        "      if i == 0:\n",
        "        print(temp.data)\n",
        "      if temp.left is not None:\n",
        "        q.append(temp.left)\n",
        "      if temp.right is not None:\n",
        "        q.append(temp.right)\n",
        "\n",
        "root = Node(20)\n",
        "root.left = Node(70)\n",
        "root.right = Node(90)\n",
        "root.left.left = Node(30)\n",
        "root.left.right = Node(40)\n",
        "root.right.right = Node(70)\n",
        "print_left_view(root)"
      ],
      "metadata": {
        "colab": {
          "base_uri": "https://localhost:8080/"
        },
        "id": "nqULvV57zWkZ",
        "outputId": "97f85ca3-3771-45d4-f3d6-13bb931983a2"
      },
      "execution_count": null,
      "outputs": [
        {
          "output_type": "stream",
          "name": "stdout",
          "text": [
            "20\n",
            "70\n",
            "30\n"
          ]
        }
      ]
    },
    {
      "cell_type": "markdown",
      "source": [
        "Spiral Level Order"
      ],
      "metadata": {
        "id": "sir5dMVL8iYO"
      }
    },
    {
      "cell_type": "code",
      "source": [
        "class Node:\n",
        "    def __init__(self, val):\n",
        "        self.left = None\n",
        "        self.right = None\n",
        "        self.data = val\n",
        "\n",
        "def spiral_order_helper(root):\n",
        "    left_to_right = True\n",
        "    spiral_order(root, left_to_right)\n",
        "\n",
        "def spiral_order(root, left_to_right):\n",
        "    if root is None:\n",
        "        return\n",
        "    queue = []\n",
        "    stack = []\n",
        "    queue.append(root)\n",
        "    while len(queue) > 0:\n",
        "        n = len(queue)\n",
        "        for i in range(0,n):\n",
        "            temp = queue[0]\n",
        "            queue.pop(0)\n",
        "            if left_to_right:\n",
        "                print(temp.data, end=\" \")\n",
        "            else:\n",
        "                stack.append(temp)\n",
        "            if temp.left is not None:\n",
        "                queue.append(temp.left)\n",
        "            if temp.right is not None:\n",
        "                queue.append(temp.right)\n",
        "        if left_to_right == False:\n",
        "            while len(stack) >0:\n",
        "                print(stack.pop().data, end=\" \")\n",
        "        print()\n",
        "        left_to_right = not left_to_right\n",
        "root = Node(1)\n",
        "root.left = Node(2)\n",
        "root.right = Node(3)\n",
        "root.left.left = Node(4)\n",
        "root.left.right = Node(5)\n",
        "root.right.left = Node(6)\n",
        "root.right.right = Node(7)\n",
        "root.right.left.left = Node(8)\n",
        "root.right.left.right = Node(9)\n",
        "spiral_order_helper(root)"
      ],
      "metadata": {
        "colab": {
          "base_uri": "https://localhost:8080/"
        },
        "id": "rPvk440U8lc-",
        "outputId": "a5a8ee42-c195-468c-8b9f-609d59aec66d"
      },
      "execution_count": null,
      "outputs": [
        {
          "output_type": "stream",
          "name": "stdout",
          "text": [
            "1 \n",
            "3 2 \n",
            "4 5 6 7 \n",
            "9 8 \n"
          ]
        }
      ]
    },
    {
      "cell_type": "markdown",
      "source": [
        "Spiral Level Order - II"
      ],
      "metadata": {
        "id": "5ZhztMZGPIW-"
      }
    },
    {
      "cell_type": "code",
      "source": [
        "class Node:\n",
        "    def __init__(self, val):\n",
        "        self.left = None\n",
        "        self.right = None\n",
        "        self.data = val\n",
        "def spiral_order(root):\n",
        "    if root is None:\n",
        "        return\n",
        "    stack1 = []\n",
        "    stack2 = []\n",
        "    stack1.append(root)\n",
        "    while len(stack1) != 0 or len(stack2) != 0:\n",
        "        while len(stack1) != 0:\n",
        "            temp = stack1.pop()\n",
        "            print(temp.data, end=\" \")\n",
        "            if temp.left is not None:\n",
        "                stack2.append(temp.left)\n",
        "            if temp.right is not None:\n",
        "                stack2.append(temp.right)\n",
        "        print()\n",
        "        while len(stack2) != 0:\n",
        "            temp = stack2.pop()\n",
        "            print(temp.data, end=\" \")\n",
        "            if temp.right is not None:\n",
        "                stack1.append(temp.right)\n",
        "            if temp.left is not None:\n",
        "                stack1.append(temp.left)\n",
        "        print()\n",
        "root = Node(1)\n",
        "root.left = Node(2)\n",
        "root.right = Node(3)\n",
        "root.left.left = Node(4)\n",
        "root.left.right = Node(5)\n",
        "root.right.left = Node(6)\n",
        "root.right.right = Node(7)\n",
        "root.right.left.left = Node(8)\n",
        "root.right.left.right = Node(9)\n",
        "spiral_order(root)"
      ],
      "metadata": {
        "colab": {
          "base_uri": "https://localhost:8080/"
        },
        "id": "X25ZWkw6PNXe",
        "outputId": "c7b4fc4c-c962-40ff-8292-8318e915b8d8"
      },
      "execution_count": null,
      "outputs": [
        {
          "output_type": "stream",
          "name": "stdout",
          "text": [
            "1 \n",
            "3 2 \n",
            "4 5 6 7 \n",
            "9 8 \n"
          ]
        }
      ]
    },
    {
      "cell_type": "markdown",
      "source": [
        "Diameter of Binary tree"
      ],
      "metadata": {
        "id": "ENFUEmEZVQag"
      }
    },
    {
      "cell_type": "code",
      "source": [
        "class Node:\n",
        "    def __init__(self, val):\n",
        "        self.left = None\n",
        "        self.right = None\n",
        "        self.data = val\n",
        "def height(root):\n",
        "    if root is None:\n",
        "        return 0\n",
        "    else:\n",
        "        return 1 + max(height(root.left), height(root.right))\n",
        "def diameter(root):\n",
        "    if root is None:\n",
        "        return 0\n",
        "    p_diam = 1 + height(root.left) + height(root.right)\n",
        "    lc_diam = diameter(root.left)\n",
        "    rc_diam = diameter(root.right)\n",
        "    return max(p_diam, max(lc_diam, rc_diam))\n",
        "root = Node(1)\n",
        "root.left = Node(2)\n",
        "root.right = Node(3)\n",
        "root.left.left = Node(4)\n",
        "root.left.right = Node(5)\n",
        "root.left.left.left = Node(6)\n",
        "root.left.left.right = Node(7)\n",
        "root.left.right.right = Node(8)\n",
        "root.left.left.left.left = Node(9)\n",
        "root.left.right.right.right = Node(10)\n",
        "print(\"The diameter of whole Tree is: {}\".format(diameter(root)))"
      ],
      "metadata": {
        "colab": {
          "base_uri": "https://localhost:8080/"
        },
        "id": "p6axdoPjVTff",
        "outputId": "e76289e9-74b0-4200-f3e5-512477a91df9"
      },
      "execution_count": null,
      "outputs": [
        {
          "output_type": "stream",
          "name": "stdout",
          "text": [
            "The diameter of whole Tree is: 7\n"
          ]
        }
      ]
    },
    {
      "cell_type": "markdown",
      "source": [
        "Diameter of Binary Tree - II"
      ],
      "metadata": {
        "id": "76JmXu1X8kvw"
      }
    },
    {
      "cell_type": "code",
      "source": [
        "class Node:\n",
        "    def __init__(self, val):\n",
        "        self.left = None\n",
        "        self.right = None\n",
        "        self.data = val\n",
        "max_diam = 0\n",
        "def height(root):\n",
        "  if root is None:\n",
        "    return 0\n",
        "  LHeight = height(root.left)\n",
        "  RHeight = height(root.right)\n",
        "  global max_diam\n",
        "  max_diam = max(max_diam, 1+LHeight+RHeight)\n",
        "  return 1+max(LHeight,RHeight)\n",
        "root = Node(1)\n",
        "root.left = Node(2)\n",
        "root.right = Node(3)\n",
        "root.left.left = Node(4)\n",
        "root.left.right = Node(5)\n",
        "root.left.left.left = Node(6)\n",
        "root.left.left.right = Node(7)\n",
        "root.left.right.right = Node(8)\n",
        "root.left.left.left.left = Node(9)\n",
        "root.left.right.right.right = Node(10)\n",
        "print(\"The height of root node is: {}\".format(height(root)))\n",
        "print(\"The diameter of Tree is: {}\".format(max_diam, 0))"
      ],
      "metadata": {
        "colab": {
          "base_uri": "https://localhost:8080/"
        },
        "id": "y0O0b0lB8oKO",
        "outputId": "a716a76a-b80d-4fd4-d3c5-37dbc8143519"
      },
      "execution_count": null,
      "outputs": [
        {
          "output_type": "stream",
          "name": "stdout",
          "text": [
            "The height of root node is: 5\n",
            "The diameter of Tree is: 7\n"
          ]
        }
      ]
    },
    {
      "cell_type": "markdown",
      "source": [
        "Lowest Common Ancestor in Binary Tree for two Nodes"
      ],
      "metadata": {
        "id": "w15mX-FSRUZC"
      }
    },
    {
      "cell_type": "code",
      "source": [
        "class Node:\n",
        "    def __init__(self, val):\n",
        "        self.left = None\n",
        "        self.right = None\n",
        "        self.data = val\n",
        "# Find Path Function\n",
        "def get_path(root,path,val):\n",
        "  if root is None:\n",
        "    return None\n",
        "  path.append(root)\n",
        "  if root.data == val:\n",
        "    return True\n",
        "  if get_path(root.left,path,val) or get_path(root.right,path,val):\n",
        "    return True\n",
        "  path.pop()\n",
        "  return False\n",
        "# Implementing LCA Function\n",
        "def get_lca(root,val1,val2):\n",
        "  path1 = []\n",
        "  path2 = []\n",
        "  if get_path(root, path1, val1) == False or get_path(root,path2, val2) == False:\n",
        "    return  None\n",
        "  [print(path1[i].data,end=' ')for i in range(len(path1))]\n",
        "  print('\\n')\n",
        "  [print(path2[i].data,end=' ')for i in range(len(path2))]\n",
        "  print('\\n')\n",
        "  i = 0\n",
        "  while i < len(path1) and i < len(path2):\n",
        "    if path1[i] != path2[i]:\n",
        "      break\n",
        "    i += 1\n",
        "  return path1[i-1]\n",
        "# Driver Code\n",
        "root = Node(70)\n",
        "root.left = Node(20)\n",
        "root.right = Node(30)\n",
        "root.left.left = Node(50)\n",
        "root.left.right = Node(10)\n",
        "root.left.left.left = Node(60)\n",
        "root.left.left.right = Node(40)\n",
        "root.left.left.left.left = Node(90)\n",
        "root.left.left.right.right = Node(110)\n",
        "root.left.right.right = Node(80)\n",
        "root.left.right.right.right = Node(100)\n",
        "lca = get_lca(root, 90, 110)\n",
        "print(\"\\nThe LCA is: {}\".format(lca.data))"
      ],
      "metadata": {
        "colab": {
          "base_uri": "https://localhost:8080/"
        },
        "id": "oU6xdgiNRcxV",
        "outputId": "1390f4cf-29cc-42f4-b5ca-52520891dc9a"
      },
      "execution_count": null,
      "outputs": [
        {
          "output_type": "stream",
          "name": "stdout",
          "text": [
            "70 20 50 60 90 \n",
            "\n",
            "70 20 50 40 110 \n",
            "\n",
            "\n",
            "The LCA is: 50\n"
          ]
        }
      ]
    },
    {
      "cell_type": "markdown",
      "source": [
        "Lowest Common Ancestor in Binary Tree for two Nodes - II"
      ],
      "metadata": {
        "id": "_obb43cNiHee"
      }
    },
    {
      "cell_type": "code",
      "source": [
        "class Node:\n",
        "    def __init__(self, val):\n",
        "        self.left = None\n",
        "        self.right = None\n",
        "        self.data = val\n",
        "def get_lca(root,val1,val2):\n",
        "# Case - 4\n",
        "  if root is None:\n",
        "    return None\n",
        "# Case - 1\n",
        "  if root.data == val1 or root.data == val2:\n",
        "    return root\n",
        "# Case - 2\n",
        "  left_lca = get_lca(root.left,val1,val2)\n",
        "  right_lca = get_lca(root.right,val2,val2)\n",
        "  if left_lca and right_lca:\n",
        "    return root\n",
        "# Case - 3\n",
        "  return left_lca if left_lca is not None else right_lca\n",
        "root = Node(70)\n",
        "root.left = Node(20)\n",
        "root.right = Node(30)\n",
        "root.left.left = Node(50)\n",
        "root.left.right = Node(10)\n",
        "root.left.left.left = Node(60)\n",
        "root.left.left.right = Node(40)\n",
        "root.left.left.left.left = Node(90)\n",
        "root.left.left.right.right = Node(110)\n",
        "root.left.right.right = Node(80)\n",
        "root.left.right.right.right = Node(100)\n",
        "lca = get_lca(root, 90, 110)\n",
        "print(\"\\nThe LCA is: {}\".format(lca.data))"
      ],
      "metadata": {
        "colab": {
          "base_uri": "https://localhost:8080/"
        },
        "id": "tZ7ehHWriOlo",
        "outputId": "ac59cc57-ceb0-4f44-ceef-2cb7fa95131c"
      },
      "execution_count": null,
      "outputs": [
        {
          "output_type": "stream",
          "name": "stdout",
          "text": [
            "\n",
            "The LCA is: 50\n"
          ]
        }
      ]
    },
    {
      "cell_type": "markdown",
      "source": [
        "Search In BST"
      ],
      "metadata": {
        "id": "kQOwexDC6buK"
      }
    },
    {
      "cell_type": "code",
      "source": [
        "class Node:\n",
        "    def __init__(self, val):\n",
        "        self.left = None\n",
        "        self.right = None\n",
        "        self.data = val\n",
        "def searchItem(node, val):\n",
        "  if node == None or node.data == val:\n",
        "    return node\n",
        "  if node.data < val:\n",
        "    return searchItem(node.right,val)\n",
        "  return searchItem(node.left,val)\n",
        "root = Node(70)\n",
        "root.left = Node(50)\n",
        "root.right = Node(90)\n",
        "root.left.left = Node(30)\n",
        "root.left.right = Node(60)\n",
        "root.right.left = Node(80)\n",
        "root.right.right =Node(110)\n",
        "if searchItem(root, 80):\n",
        "  print('Present')\n",
        "else:\n",
        "  print('Not Present')"
      ],
      "metadata": {
        "colab": {
          "base_uri": "https://localhost:8080/"
        },
        "id": "s98Mxy2f6iPj",
        "outputId": "fc262385-081a-41be-e286-89cc9dfa46da"
      },
      "execution_count": null,
      "outputs": [
        {
          "output_type": "stream",
          "name": "stdout",
          "text": [
            "Present\n"
          ]
        }
      ]
    },
    {
      "cell_type": "markdown",
      "source": [
        "Insertion in BST"
      ],
      "metadata": {
        "id": "MnPHi77F7th1"
      }
    },
    {
      "cell_type": "code",
      "source": [
        "class Node:\n",
        "    def __init__(self, val):\n",
        "        self.left = None\n",
        "        self.right = None\n",
        "        self.data = val\n",
        "def insert(node, val):\n",
        "    if node is None:\n",
        "        return Node(val)\n",
        "    elif val < node.data:\n",
        "        node.left = insert(node.left, val)\n",
        "    elif val > node.data:\n",
        "        node.right = insert(node.right, val)\n",
        "    return node\n",
        "def inorder_traversal(node):\n",
        "    if node:\n",
        "        inorder_traversal(node.left)\n",
        "        print(node.data, end=' ')\n",
        "        inorder_traversal(node.right)\n",
        "# Creating the initial BST\n",
        "root = Node(70)\n",
        "root.left = Node(50)\n",
        "root.right = Node(90)\n",
        "root.left.left = Node(30)\n",
        "root.left.right = Node(60)\n",
        "root.right.left = Node(80)\n",
        "root.right.right = Node(110)\n",
        "# Inserting a new value into the BST\n",
        "insert(root, 85)\n",
        "# Printing the BST to verify the insertion\n",
        "inorder_traversal(root)\n",
        "print()  # For a newline after the traversal output"
      ],
      "metadata": {
        "colab": {
          "base_uri": "https://localhost:8080/"
        },
        "id": "G_Z9ahHX72iX",
        "outputId": "910da877-49ec-4de9-8076-dd84ff38ea11"
      },
      "execution_count": null,
      "outputs": [
        {
          "output_type": "stream",
          "name": "stdout",
          "text": [
            "30 50 60 70 80 85 90 110 \n"
          ]
        }
      ]
    },
    {
      "cell_type": "markdown",
      "source": [
        "# **RECURSION**"
      ],
      "metadata": {
        "id": "ilRAQudxhp9w"
      }
    },
    {
      "cell_type": "markdown",
      "source": [
        "Factorial"
      ],
      "metadata": {
        "id": "sRScliD3Yh8w"
      }
    },
    {
      "cell_type": "code",
      "source": [
        "def fact(n):\n",
        "  if n > 1:\n",
        "    return n * fact(n-1)\n",
        "  else:\n",
        "    return 1\n",
        "n = 5\n",
        "print(fact(n))"
      ],
      "metadata": {
        "colab": {
          "base_uri": "https://localhost:8080/"
        },
        "id": "WA8p476hYkwZ",
        "outputId": "50c0f025-1a0d-4de3-bad7-32a5ef4e2205"
      },
      "execution_count": null,
      "outputs": [
        {
          "output_type": "stream",
          "name": "stdout",
          "text": [
            "120\n"
          ]
        }
      ]
    },
    {
      "cell_type": "markdown",
      "source": [
        "power"
      ],
      "metadata": {
        "id": "35Vu1n1cYH_O"
      }
    },
    {
      "cell_type": "code",
      "source": [
        "def power(x,n):\n",
        "  if n!=0:\n",
        "    return x * pow(x,n-1)\n",
        "  else:\n",
        "    return 1\n",
        "n = 4\n",
        "x = 2\n",
        "print(power(x,n))"
      ],
      "metadata": {
        "colab": {
          "base_uri": "https://localhost:8080/"
        },
        "id": "YqfIoo_PYMOQ",
        "outputId": "314f7a9c-9819-4c68-f92e-eb02f194d852"
      },
      "execution_count": null,
      "outputs": [
        {
          "output_type": "stream",
          "name": "stdout",
          "text": [
            "16\n"
          ]
        }
      ]
    },
    {
      "cell_type": "markdown",
      "source": [
        "Fibonacci Series"
      ],
      "metadata": {
        "id": "YHfeBr2hWRKM"
      }
    },
    {
      "cell_type": "code",
      "source": [
        "def fibonacci(n):\n",
        "    if n <= 1:\n",
        "        return n\n",
        "    else:\n",
        "        return fibonacci(n - 1) + fibonacci(n - 2)\n",
        "n = int(input())\n",
        "if n <= 0:\n",
        "    print(\"positive integer\")\n",
        "else:\n",
        "    print(\"Fibonacci sequence:\")\n",
        "    for i in range(n):\n",
        "        print(fibonacci(i))\n",
        "\n"
      ],
      "metadata": {
        "colab": {
          "base_uri": "https://localhost:8080/"
        },
        "id": "p61nfJw0WWH3",
        "outputId": "018f07ca-fb58-4766-aa40-a4479574e29a"
      },
      "execution_count": null,
      "outputs": [
        {
          "output_type": "stream",
          "name": "stdout",
          "text": [
            "5\n",
            "Fibonacci sequence:\n",
            "0\n",
            "1\n",
            "1\n",
            "2\n",
            "3\n"
          ]
        }
      ]
    },
    {
      "cell_type": "markdown",
      "source": [
        "First Occurrence using recursion"
      ],
      "metadata": {
        "id": "AHbU-nCfjZn2"
      }
    },
    {
      "cell_type": "code",
      "source": [
        "def findValueIndex(arr, size, i, val):\n",
        "  if i == size:\n",
        "    return -1\n",
        "  if arr[i] == val:\n",
        "    return i\n",
        "  return findValueIndex(arr, size, i+1, val)\n",
        "arr = [1,2,3,5,4,3,5]\n",
        "size = len(arr)\n",
        "val = int(input())\n",
        "index = findValueIndex(arr,size,0,val)\n",
        "if index != 0:\n",
        "  print(f' {val} Found at {index}')\n",
        "else:\n",
        "  print('Not Found')"
      ],
      "metadata": {
        "colab": {
          "base_uri": "https://localhost:8080/"
        },
        "id": "4ssB0Dnsjd5h",
        "outputId": "d7c9fa81-aa51-40bb-e341-5e2da5139d8a"
      },
      "execution_count": null,
      "outputs": [
        {
          "output_type": "stream",
          "name": "stdout",
          "text": [
            "5\n",
            " 5 Found at 3\n"
          ]
        }
      ]
    },
    {
      "cell_type": "markdown",
      "source": [
        "Last Occurrence using recursion"
      ],
      "metadata": {
        "id": "Vewe4aQIhsr2"
      }
    },
    {
      "cell_type": "code",
      "source": [
        "def findValueIndex(arr, i, val):\n",
        "  if i == -1:\n",
        "    return -1\n",
        "  if arr[i] == val:\n",
        "    return i\n",
        "  return findValueIndex(arr, i-1, val)\n",
        "arr = [1,2,3,4,5]\n",
        "size = len(arr)\n",
        "val = int(input())\n",
        "index = findValueIndex(arr, size-1 , val)\n",
        "if index != -1:\n",
        "  print(f' {val} Found at {index}')\n",
        "else:\n",
        "  print('Not Found')"
      ],
      "metadata": {
        "colab": {
          "base_uri": "https://localhost:8080/"
        },
        "id": "71UesVVzhzPs",
        "outputId": "752d7f19-5103-46ec-dae1-c8c8ec7ff6c9"
      },
      "execution_count": null,
      "outputs": [
        {
          "output_type": "stream",
          "name": "stdout",
          "text": [
            "4\n",
            " 4 Found at 3\n"
          ]
        }
      ]
    },
    {
      "cell_type": "markdown",
      "source": [
        "Fibonaci Series"
      ],
      "metadata": {
        "id": "iC7gsCwUbnFc"
      }
    },
    {
      "cell_type": "code",
      "source": [
        "from collections import defaultdict\n",
        "m = defaultdict(int)\n",
        "def fibonaci(n):\n",
        "  if m[n]:\n",
        "    return m[n]\n",
        "  if n <= 1:\n",
        "    m[n] = n\n",
        "    return m[n]\n",
        "  m[n] = fibonaci(n-1) + fibonaci(n-2)\n",
        "  return m[n]\n",
        "\n",
        "L=[]\n",
        "for i in range(15):\n",
        "    L.append(fibonaci(i))\n",
        "print(\" \".join(str(x) for x in L))\n"
      ],
      "metadata": {
        "colab": {
          "base_uri": "https://localhost:8080/"
        },
        "id": "JSAVaMSQbr1J",
        "outputId": "834fbfa3-de70-4be7-e122-001b47c2600b"
      },
      "execution_count": null,
      "outputs": [
        {
          "output_type": "stream",
          "name": "stdout",
          "text": [
            "0 1 1 2 3 5 8 13 21 34 55 89 144 233 377\n"
          ]
        }
      ]
    },
    {
      "cell_type": "markdown",
      "source": [
        "Tribonaci Series"
      ],
      "metadata": {
        "id": "0WiNe6Vpc9oF"
      }
    },
    {
      "cell_type": "code",
      "source": [
        "from collections import defaultdict\n",
        "m = defaultdict(int)\n",
        "def tribonaci(n):\n",
        "  if m[n]:\n",
        "    return m[n]\n",
        "  if n <= 2:\n",
        "    m[n] = n\n",
        "    return m[n]\n",
        "  m[n] = tribonaci(n-1) + tribonaci(n-2) + tribonaci(n-3)\n",
        "  return m[n]\n",
        "L = []\n",
        "for i in range(15):\n",
        "  L.append(tribonaci(i))\n",
        "print(' '.join(str(x) for x in L))"
      ],
      "metadata": {
        "colab": {
          "base_uri": "https://localhost:8080/"
        },
        "id": "N40A_6T5dAE0",
        "outputId": "e9166c15-fece-4987-d020-982742943018"
      },
      "execution_count": null,
      "outputs": [
        {
          "output_type": "stream",
          "name": "stdout",
          "text": [
            "0 1 2 3 6 11 20 37 68 125 230 423 778 1431 2632\n"
          ]
        }
      ]
    },
    {
      "cell_type": "markdown",
      "source": [
        "Last Occurence in an array"
      ],
      "metadata": {
        "id": "6Xtluvw6nrLC"
      }
    },
    {
      "cell_type": "code",
      "source": [
        "def LastOccurence(arr, size, i, target, pos):\n",
        "  if i == size:\n",
        "    return pos\n",
        "  if arr[i] == target:\n",
        "    pos = i\n",
        "  return LastOccurence(arr, size, i+1, target, pos)\n",
        "arr = [1,2,3,4,3,4,2,6,7,4,3]\n",
        "size = 11\n",
        "pos = 1\n",
        "target = 4\n",
        "print(LastOccurence(arr, size, 0, target, pos))"
      ],
      "metadata": {
        "colab": {
          "base_uri": "https://localhost:8080/"
        },
        "id": "uwYcX8hYnw5j",
        "outputId": "dec40e41-eeb8-4459-9579-02c08cf94ffe"
      },
      "execution_count": null,
      "outputs": [
        {
          "output_type": "stream",
          "name": "stdout",
          "text": [
            "9\n"
          ]
        }
      ]
    },
    {
      "cell_type": "markdown",
      "source": [
        "First Occurence in an Array"
      ],
      "metadata": {
        "id": "FnxZ1PV5ozb4"
      }
    },
    {
      "cell_type": "code",
      "source": [
        "def FirstOccurence(arr,size,i,target):\n",
        "  if i==size:\n",
        "    return -1\n",
        "  if arr[i]==target:\n",
        "    return i\n",
        "  return FirstOccurence(arr,size,i+1,target)\n",
        "arr=[1,2,3,2,3,4,3,4,6,5,3]\n",
        "size=11\n",
        "target=4\n",
        "print(FirstOccurence(arr,size,0,target))"
      ],
      "metadata": {
        "colab": {
          "base_uri": "https://localhost:8080/"
        },
        "id": "-ioLY0Sho4PT",
        "outputId": "be611356-4e10-4693-88a2-55c730561fe8"
      },
      "execution_count": null,
      "outputs": [
        {
          "output_type": "stream",
          "name": "stdout",
          "text": [
            "5\n"
          ]
        }
      ]
    },
    {
      "cell_type": "markdown",
      "source": [
        "# **STACKS**"
      ],
      "metadata": {
        "id": "qIfL7JwYaIkJ"
      }
    },
    {
      "cell_type": "markdown",
      "source": [
        "Stack Implementation Method - I"
      ],
      "metadata": {
        "id": "7DJIPxFaaOgO"
      }
    },
    {
      "cell_type": "code",
      "source": [
        "from sys import maxsize\n",
        "def createStack():\n",
        "  stack = []\n",
        "  return stack\n",
        "def isEmpty(stack):\n",
        "  return len(stack) == 0\n",
        "def push(stack, item):\n",
        "  stack.append(item)\n",
        "  print(item+' Pushed to stack')\n",
        "def pop(stack):\n",
        "  if isEmpty(stack):\n",
        "    return str(-maxsize-1)\n",
        "  return stack.pop()\n",
        "def peek(stack):\n",
        "  if isEmpty(stack):\n",
        "    return str(-maxsize-1)\n",
        "  return stack[len(stack)-1]\n",
        "stack = createStack()\n",
        "push(stack, str(5))\n",
        "push(stack, str(10))\n",
        "push(stack, str(15))\n",
        "push(stack, str(20))\n",
        "print(pop(stack)+' popped from stack')\n",
        "print(peek(stack))"
      ],
      "metadata": {
        "colab": {
          "base_uri": "https://localhost:8080/"
        },
        "id": "sIDKGmuVaS-d",
        "outputId": "08eeadbc-3ab3-4709-f2cc-b841a0bd38f6"
      },
      "execution_count": null,
      "outputs": [
        {
          "output_type": "stream",
          "name": "stdout",
          "text": [
            "5 Pushed to stack\n",
            "10 Pushed to stack\n",
            "15 Pushed to stack\n",
            "20 Pushed to stack\n",
            "20 popped from stack\n",
            "15\n"
          ]
        }
      ]
    },
    {
      "cell_type": "markdown",
      "source": [
        "Stack Implementation Method - II"
      ],
      "metadata": {
        "id": "P01HAWnlxwnU"
      }
    },
    {
      "cell_type": "code",
      "source": [
        "from sys import maxsize\n",
        "class Stack:\n",
        "    def __init__(self):\n",
        "        self.stack = []\n",
        "    def isEmpty(self):\n",
        "        return len(self.stack) == 0\n",
        "    def push(self, item):\n",
        "        self.stack.append(item)\n",
        "        print(item + ' Pushed to stack')\n",
        "    def pop(self):\n",
        "        if self.isEmpty():\n",
        "            return str(-maxsize - 1)\n",
        "        return self.stack.pop()\n",
        "    def peek(self):\n",
        "        if self.isEmpty():\n",
        "            return str(-maxsize - 1)\n",
        "        return self.stack[len(self.stack) - 1]\n",
        "    def size(self):\n",
        "        return len(self.stack)\n",
        "    def display(self):\n",
        "        print(' '.join(self.stack[i] for i in range(len(self.stack) - 1, -1, -1)))\n",
        "        print(' '.join(item for item in self.stack[::-1]))\n",
        "# Instantiate the Stack class\n",
        "s = Stack()\n",
        "s.push(str(5))\n",
        "s.push(str(10))\n",
        "s.push(str(15))\n",
        "s.push(str(20))\n",
        "print(s.pop() + ' Popped from stack')\n",
        "print(s.peek() + ' is top of stack')\n",
        "print(str(s.size()))\n",
        "s.display()"
      ],
      "metadata": {
        "colab": {
          "base_uri": "https://localhost:8080/"
        },
        "id": "UGsYOOZlx1Fk",
        "outputId": "29dadd6d-0f14-4c19-ed03-01fe2a97eeec"
      },
      "execution_count": null,
      "outputs": [
        {
          "output_type": "stream",
          "name": "stdout",
          "text": [
            "5 Pushed to stack\n",
            "10 Pushed to stack\n",
            "15 Pushed to stack\n",
            "20 Pushed to stack\n",
            "20 Popped from stack\n",
            "15 is top of stack\n",
            "3\n",
            "15 10 5\n",
            "15 10 5\n"
          ]
        }
      ]
    },
    {
      "cell_type": "markdown",
      "source": [
        "Method - III"
      ],
      "metadata": {
        "id": "D1v_tSFM0q1b"
      }
    },
    {
      "cell_type": "code",
      "source": [
        "s = []\n",
        "s.append(1)\n",
        "s.append(2)\n",
        "s.append(3)\n",
        "print(s)\n",
        "print(s.pop())\n",
        "print(s.pop())\n",
        "print(s)\n",
        "top = s[-1]\n",
        "print(top)\n",
        "size = len(s)\n",
        "print(size)\n",
        "print(s.pop())"
      ],
      "metadata": {
        "colab": {
          "base_uri": "https://localhost:8080/"
        },
        "id": "W4VNMRPp0tRb",
        "outputId": "74a71953-1601-44de-ee01-f635a84d02fc"
      },
      "execution_count": null,
      "outputs": [
        {
          "output_type": "stream",
          "name": "stdout",
          "text": [
            "[1, 2, 3]\n",
            "3\n",
            "2\n",
            "[1]\n",
            "1\n",
            "1\n",
            "1\n"
          ]
        }
      ]
    },
    {
      "cell_type": "markdown",
      "source": [
        "Method - IV"
      ],
      "metadata": {
        "id": "y1ibgUk91OTO"
      }
    },
    {
      "cell_type": "code",
      "source": [
        "from collections import deque\n",
        "s = deque()\n",
        "s.append(1)\n",
        "s.append(2)\n",
        "s.append(3)\n",
        "print(s)\n",
        "top = s[-1]\n",
        "print(top)\n",
        "size = len(s)\n",
        "print(size)"
      ],
      "metadata": {
        "colab": {
          "base_uri": "https://localhost:8080/"
        },
        "id": "0E_l2iiw1RNZ",
        "outputId": "5f7a2295-5134-48dd-cc5b-cb8dda0b5dad"
      },
      "execution_count": null,
      "outputs": [
        {
          "output_type": "stream",
          "name": "stdout",
          "text": [
            "deque([1, 2, 3])\n",
            "3\n",
            "3\n"
          ]
        }
      ]
    },
    {
      "cell_type": "markdown",
      "source": [
        "Balanced Parethesis"
      ],
      "metadata": {
        "id": "wp6BhwaTKavU"
      }
    },
    {
      "cell_type": "code",
      "source": [
        "from collections import deque\n",
        "def check_pair(val1, val2):\n",
        "  return (val1 == '(' and val2 == ')') or (val1 == '{' and val2 == '}') or (val1 == '[' and val2 == ']')\n",
        "def check_balanced(exp):\n",
        "  s = deque()\n",
        "  for i in range(len(exp)):\n",
        "    if exp[i] == '(' or exp[i] == '[' or exp[i] == '{':\n",
        "      s.append(exp[i])\n",
        "    else:\n",
        "      if len(s) == 0:\n",
        "        return False\n",
        "      elif check_pair(s[-1],exp[i]):\n",
        "        s.pop()\n",
        "        continue\n",
        "      return False\n",
        "  return True\n",
        "exp = '(){[]}'\n",
        "if check_balanced(exp):\n",
        "  print('Balanced')\n",
        "else:\n",
        "  print('Not Balanced')"
      ],
      "metadata": {
        "colab": {
          "base_uri": "https://localhost:8080/"
        },
        "id": "3wkwsa-JKhix",
        "outputId": "a337bbae-031b-4d88-8925-f1d4d309e6cd"
      },
      "execution_count": null,
      "outputs": [
        {
          "output_type": "stream",
          "name": "stdout",
          "text": [
            "Balanced\n"
          ]
        }
      ]
    },
    {
      "cell_type": "markdown",
      "source": [
        "Stock of a Span"
      ],
      "metadata": {
        "id": "ncAMq3JOTqi_"
      }
    },
    {
      "cell_type": "code",
      "source": [
        "def stockSpan(arr):\n",
        "  for i in range(len(arr)):\n",
        "    curr_span = 1\n",
        "    j = i - 1\n",
        "    while j >= 0 and arr[j] <= arr[i]:\n",
        "      curr_span += 1\n",
        "      j -= 1\n",
        "    print(curr_span, end=' ')\n",
        "arr = [12,14,15,7,15,17,5]\n",
        "stockSpan(arr)"
      ],
      "metadata": {
        "colab": {
          "base_uri": "https://localhost:8080/"
        },
        "id": "rCPOHQsJTuGu",
        "outputId": "77aee805-fffe-4329-9bea-b87d6cb357fc"
      },
      "execution_count": null,
      "outputs": [
        {
          "output_type": "stream",
          "name": "stdout",
          "text": [
            "1 2 3 1 5 6 1 "
          ]
        }
      ]
    },
    {
      "cell_type": "markdown",
      "source": [
        "Optimized"
      ],
      "metadata": {
        "id": "DsQ6O8eJKHzu"
      }
    },
    {
      "cell_type": "code",
      "source": [
        "from collections import deque\n",
        "def stockSpan(arr):\n",
        "  s = deque()\n",
        "  s.append(0)\n",
        "  print(1, end=' ')\n",
        "  for i in range(1, len(arr)):\n",
        "    while len(s) != 0 and arr[s[-1]] <= arr[i]:\n",
        "      s.pop()\n",
        "    if len(s) == 0:\n",
        "      print(i+1,end=' ')\n",
        "    else:\n",
        "      print(i-s[-1], end=' ')\n",
        "    s.append(i)\n",
        "arr = [100,20,30,60,38,36,32,55,80,50,120]\n",
        "stockSpan(arr)"
      ],
      "metadata": {
        "colab": {
          "base_uri": "https://localhost:8080/"
        },
        "id": "eaKuOhQ0KK0b",
        "outputId": "bc66cbfd-6895-4392-8e38-8472b0d68f30"
      },
      "execution_count": null,
      "outputs": [
        {
          "output_type": "stream",
          "name": "stdout",
          "text": [
            "1 1 2 3 1 1 1 4 8 1 11 "
          ]
        }
      ]
    },
    {
      "cell_type": "markdown",
      "source": [
        "Previous Greater Element in an Array"
      ],
      "metadata": {
        "id": "P5BKoo_jEvNJ"
      }
    },
    {
      "cell_type": "code",
      "source": [
        "def prevGreater(arr, size):\n",
        "  for i in range(size):\n",
        "    flag = False\n",
        "    for j in range(i-1,0,-1):\n",
        "      if arr[j] > arr[i]:\n",
        "        print(arr[j],end=' ')\n",
        "        flag = True\n",
        "        break\n",
        "    if not flag:\n",
        "      print('-', end=' ')\n",
        "arr = [30,50,20,15,25]\n",
        "size = len(arr)\n",
        "prevGreater(arr, size)"
      ],
      "metadata": {
        "colab": {
          "base_uri": "https://localhost:8080/"
        },
        "id": "Ju_sMZUtE0W6",
        "outputId": "3db49c08-a565-47bf-f99f-a9c9ceebfec9"
      },
      "execution_count": null,
      "outputs": [
        {
          "output_type": "stream",
          "name": "stdout",
          "text": [
            "- - 50 20 50 "
          ]
        }
      ]
    },
    {
      "cell_type": "markdown",
      "source": [
        "Previous Greater Element in an Array - Method - II"
      ],
      "metadata": {
        "id": "0Q7C81cOLvHc"
      }
    },
    {
      "cell_type": "code",
      "source": [
        "from collections import deque\n",
        "def prevGreater(arr):\n",
        "  s = deque()\n",
        "  s.append(arr[0])\n",
        "  print('-',end=' ')\n",
        "  for i in range(1, len(arr)):\n",
        "    while len(s) > 0 and s[-1] <= arr[i]:\n",
        "      s.pop()\n",
        "    if len(s) == 0:\n",
        "      print('-', end=' ')\n",
        "    else:\n",
        "      print(s[-1],end=' ')\n",
        "arr = [30,15,50,20,25]\n",
        "prevGreater(arr)"
      ],
      "metadata": {
        "colab": {
          "base_uri": "https://localhost:8080/"
        },
        "id": "U2jdcej_L1kd",
        "outputId": "3bdab1ea-e06d-4fb3-c5d0-aff534ebf206"
      },
      "execution_count": null,
      "outputs": [
        {
          "output_type": "stream",
          "name": "stdout",
          "text": [
            "- 30 - - - "
          ]
        }
      ]
    },
    {
      "cell_type": "markdown",
      "source": [
        "Next Greater Element in an Array"
      ],
      "metadata": {
        "id": "cxdOBU3jN4km"
      }
    },
    {
      "cell_type": "code",
      "source": [
        "def nextGreat(arr):\n",
        "  for i in range(len(arr)):\n",
        "    flag = False\n",
        "    for j in range(i+1,len(arr)):\n",
        "      if arr[j] > arr[i]:\n",
        "        print(arr[j],end=' ')\n",
        "        flag = True\n",
        "        break\n",
        "    if not flag:\n",
        "      print('-',end=' ')\n",
        "arr = [30, 50, 20, 15, 25]\n",
        "nextGreat(arr)"
      ],
      "metadata": {
        "colab": {
          "base_uri": "https://localhost:8080/"
        },
        "id": "tHLhVmdSN8Z3",
        "outputId": "2fd4a218-f226-4d44-dc5d-fbe4973c2c8c"
      },
      "execution_count": null,
      "outputs": [
        {
          "output_type": "stream",
          "name": "stdout",
          "text": [
            "50 - 25 25 - "
          ]
        }
      ]
    },
    {
      "cell_type": "markdown",
      "source": [
        "Next Greater Element in an Array Method - II"
      ],
      "metadata": {
        "id": "0aMg7qtrO9cr"
      }
    },
    {
      "cell_type": "code",
      "source": [
        "from collections import deque\n",
        "def prevGreater(arr, size):\n",
        "    stack = deque()\n",
        "    list = []\n",
        "    stack.append(arr[size - 1])\n",
        "    list.append(\"-\")\n",
        "    for i in range(size-2, -1, -1):\n",
        "        while len(stack) > 0 and stack[-1] <= arr[i]:\n",
        "            stack.pop()\n",
        "        if len(stack) == 0:\n",
        "            list.append(\"-\")\n",
        "        else:\n",
        "            list.append(stack[-1])\n",
        "        stack.append(arr[i])\n",
        "    list.reverse()\n",
        "    print(\" \".join(str(x) for x in list))\n",
        "arr = [30, 50, 20, 15, 25]\n",
        "prevGreater(arr, len(arr))"
      ],
      "metadata": {
        "id": "cS1iQSuZPC6q",
        "colab": {
          "base_uri": "https://localhost:8080/"
        },
        "outputId": "3b393310-4c63-4f14-f6aa-89af65cc756f"
      },
      "execution_count": null,
      "outputs": [
        {
          "output_type": "stream",
          "name": "stdout",
          "text": [
            "50 - 25 25 -\n"
          ]
        }
      ]
    },
    {
      "cell_type": "markdown",
      "source": [
        "Previous Smaller element in an Array"
      ],
      "metadata": {
        "id": "1uXJ3_sEzJLj"
      }
    },
    {
      "cell_type": "code",
      "source": [
        "from collections import deque\n",
        "def PreSmaller(arr):\n",
        "   st = deque()\n",
        "   ans = []\n",
        "   for i in arr:\n",
        "       if st and st[-1] > i:\n",
        "           while st:\n",
        "               if st[-1] > i:\n",
        "                   st.pop()\n",
        "               else:\n",
        "                   break\n",
        "       if st:\n",
        "           ans.append(st[-1])\n",
        "           st.append(i)\n",
        "       else:\n",
        "           ans.append(-1)\n",
        "           st.append(i)\n",
        "   return ans\n",
        "ar = [1, 3, 2]\n",
        "size = len(ar)\n",
        "print(PreSmaller(ar))"
      ],
      "metadata": {
        "colab": {
          "base_uri": "https://localhost:8080/"
        },
        "id": "uDM9KpURzOvV",
        "outputId": "7f0994d1-ab1a-4bfc-834e-4ff9e96ba5aa"
      },
      "execution_count": null,
      "outputs": [
        {
          "output_type": "stream",
          "name": "stdout",
          "text": [
            "[-1, 1, 1]\n"
          ]
        }
      ]
    },
    {
      "cell_type": "markdown",
      "source": [
        "Next Smaller Element in an Array"
      ],
      "metadata": {
        "id": "QheqU3Sg1brJ"
      }
    },
    {
      "cell_type": "code",
      "source": [
        "from collections import deque\n",
        "def NextSmaller(arr):\n",
        "   st = deque()\n",
        "   ans = []\n",
        "   for i in reversed(arr):\n",
        "       if st and st[-1] > i:\n",
        "           while st:\n",
        "               if st[-1] > i:\n",
        "                   st.pop()\n",
        "               else:\n",
        "                   break\n",
        "       if st:\n",
        "           ans.append(st[-1])\n",
        "           st.append(i)\n",
        "       else:\n",
        "           ans.append(-1)\n",
        "           st.append(i)\n",
        "   return ans[::-1]\n",
        "ar = [1, 3, 2]\n",
        "size = len(ar)\n",
        "print(NextSmaller(ar))"
      ],
      "metadata": {
        "colab": {
          "base_uri": "https://localhost:8080/"
        },
        "id": "1lAadcS51fsi",
        "outputId": "24baf2cc-9d5b-448d-b6d5-a671fc464357"
      },
      "execution_count": null,
      "outputs": [
        {
          "output_type": "stream",
          "name": "stdout",
          "text": [
            "[-1, 2, -1]\n"
          ]
        }
      ]
    },
    {
      "cell_type": "markdown",
      "source": [
        "Largest Rectangular Area under a HIstogram"
      ],
      "metadata": {
        "id": "_PcIzqGNbBAd"
      }
    },
    {
      "cell_type": "code",
      "source": [
        "def maxarea(arr, size):\n",
        "  res = 0\n",
        "  for i in range(size):\n",
        "    c = 0\n",
        "    for j in range(i-1,-1,-1):\n",
        "      if arr[j] >= arr[i]:\n",
        "        c += 1\n",
        "      else:\n",
        "        break\n",
        "    for j in range(i+1, size):\n",
        "      if arr[j] >= arr[i]:\n",
        "        c += 1\n",
        "      else:\n",
        "        break\n",
        "    temp = c * arr[i]\n",
        "    res = max(res, temp)\n",
        "  return res\n",
        "arr = [11,3,4,4,1,5,7]\n",
        "maxarea(arr, len(arr))"
      ],
      "metadata": {
        "colab": {
          "base_uri": "https://localhost:8080/"
        },
        "id": "fOG7y7cJcP77",
        "outputId": "9b6f013f-fd4c-46d4-a646-f3ff709b37ef"
      },
      "execution_count": null,
      "outputs": [
        {
          "output_type": "execute_result",
          "data": {
            "text/plain": [
              "9"
            ]
          },
          "metadata": {},
          "execution_count": 2
        }
      ]
    },
    {
      "cell_type": "markdown",
      "source": [
        "Largest Rectangle Area Under a Histogram - Optimized"
      ],
      "metadata": {
        "id": "fBE6FsArjDWK"
      }
    },
    {
      "cell_type": "code",
      "source": [
        "#Large rectangle area\n",
        "def large(arr,size):\n",
        "  ans = max(arr)\n",
        "  prevsmall = ps(arr,size)\n",
        "  nextsmall = ps(arr,size)\n",
        "  for i in range(size):\n",
        "    res = arr[i]\n",
        "    res += (i-prevsmall[i]-1)*arr[i]\n",
        "    res += (nextsmall[i]-i-1)*arr[i]\n",
        "    ans = max(res, ans)\n",
        "  return ans\n",
        "  # previous small\n",
        "def ps(arr,size):\n",
        "  l = []\n",
        "  s = []\n",
        "  for i in range(size):\n",
        "    if s and arr[s[-1]] > arr[i]:\n",
        "      while s:\n",
        "        if arr[s[-1]] > arr[i]:\n",
        "          s.pop()\n",
        "        else:\n",
        "          break\n",
        "    if s:\n",
        "      l.append(s[-1])\n",
        "      s.append(i)\n",
        "    else:\n",
        "      l.append(-1)\n",
        "      s.append(i)\n",
        "  return l\n",
        "  # next small\n",
        "def ns(arr,size):\n",
        "  l = [0]*size\n",
        "  s = []\n",
        "  for i in range(size-2,-1,-1):\n",
        "    if s and arr[s[-1]] > arr[i]:\n",
        "      while s:\n",
        "        if arr[s[-1]] > arr[i]:\n",
        "          s.pop()\n",
        "        else:\n",
        "          break\n",
        "    if s:\n",
        "      l[i] = s[-1]\n",
        "      s.append(i)\n",
        "    else:\n",
        "      l[i] = size\n",
        "      s.append(i)\n",
        "  return l\n",
        "arr = [6,2,5,4,1,5,6]\n",
        "print(large(arr,len(arr)))"
      ],
      "metadata": {
        "colab": {
          "base_uri": "https://localhost:8080/"
        },
        "id": "zJT9PNAXjKFY",
        "outputId": "031bb5a6-05b1-4d69-f579-921a1d59e7d2"
      },
      "execution_count": null,
      "outputs": [
        {
          "output_type": "stream",
          "name": "stdout",
          "text": [
            "6\n"
          ]
        }
      ]
    },
    {
      "cell_type": "markdown",
      "source": [
        "Largest Rectangle Area Under a Histogram - Optimized"
      ],
      "metadata": {
        "id": "hpQsDeCM4I1s"
      }
    },
    {
      "cell_type": "code",
      "source": [
        "def large(arr,size):\n",
        "  res = max(arr)\n",
        "  s = []\n",
        "  for i in range(size):\n",
        "    while s and arr[s[-1]] >= arr[i]:\n",
        "      top_ind = s.pop()\n",
        "      if s:\n",
        "        curr = i - s[-1] - 1\n",
        "      else:\n",
        "        curr = i\n",
        "      res = max(res, arr[top_ind]*curr)\n",
        "    s.append(i)\n",
        "  while s:\n",
        "    top_ind = s.pop()\n",
        "    if s:\n",
        "      res = max((size-s[-1]-1)*arr[top_ind],res)\n",
        "    else:\n",
        "      res = max(size*arr[top_ind],res)\n",
        "  return res\n",
        "arr = [6,2,5,4,1,5,6]\n",
        "print(large(arr,len(arr)))"
      ],
      "metadata": {
        "colab": {
          "base_uri": "https://localhost:8080/"
        },
        "id": "A2Vb6x5q4OS_",
        "outputId": "4babb140-f64b-4928-dbba-f557bbbf4ec5"
      },
      "execution_count": null,
      "outputs": [
        {
          "output_type": "stream",
          "name": "stdout",
          "text": [
            "10\n"
          ]
        }
      ]
    },
    {
      "cell_type": "markdown",
      "source": [
        "# QUEUES"
      ],
      "metadata": {
        "id": "H2J_up9yXEuc"
      }
    },
    {
      "cell_type": "markdown",
      "source": [
        "Queues Implementation"
      ],
      "metadata": {
        "id": "v6n7NvfAXOS1"
      }
    },
    {
      "cell_type": "code",
      "source": [
        "class Queue:\n",
        "    def __init__(self, cap):\n",
        "        self.queue = [None] * cap\n",
        "        self.front = None\n",
        "        self.rear = None\n",
        "        self.capacity = cap\n",
        "\n",
        "    def is_full(self):\n",
        "        if self.rear == self.capacity - 1:\n",
        "            print(\"OverFlow Condition, can't Enqueue\")\n",
        "\n",
        "        return self.rear == self.capacity - 1\n",
        "\n",
        "    def is_empty(self):\n",
        "        if self.front is None:\n",
        "            print(\"Underflow Condition, can't Dequeue\")\n",
        "\n",
        "        return self.front is None\n",
        "\n",
        "    def enqueue(self, item):\n",
        "        if self.is_full():\n",
        "            return\n",
        "\n",
        "        if self.front is None:\n",
        "            self.front = 0\n",
        "            self.rear = 0\n",
        "        else:\n",
        "            self.rear += 1\n",
        "\n",
        "        self.queue[self.rear] = item\n",
        "        print(self.queue[self.rear], \" enqueued to queue\")\n",
        "\n",
        "    def dequeue(self):\n",
        "        if self.is_empty():\n",
        "            return\n",
        "\n",
        "        item = self.queue[self.front]\n",
        "        self.front += 1\n",
        "\n",
        "        # resetting the queue when last item is Dequeued\n",
        "        if self.front > self.rear:\n",
        "            self.front = self.rear = None\n",
        "\n",
        "        print(item, \" dequeued from queue\")\n",
        "\n",
        "    # function to display the queue\n",
        "    def display(self):\n",
        "        if self.rear is None:\n",
        "            print(\"Queue was Empty!!!\")\n",
        "        else:\n",
        "            i = self.front\n",
        "            print(\"Queue : \", end=\"\")\n",
        "\n",
        "            while i <= self.rear:\n",
        "                print(self.queue[i], end=\" \")\n",
        "                i += 1\n",
        "\n",
        "\n",
        "# Driver Code\n",
        "q = Queue(5)\n",
        "\n",
        "q.enqueue(10)\n",
        "q.enqueue(20)\n",
        "q.enqueue(30)\n",
        "q.enqueue(40)\n",
        "\n",
        "print()\n",
        "q.dequeue()\n",
        "q.dequeue()\n",
        "print()\n",
        "\n",
        "q.display()"
      ],
      "metadata": {
        "colab": {
          "base_uri": "https://localhost:8080/"
        },
        "id": "mdXaTNHq6V39",
        "outputId": "87dac1ba-22fb-43ba-c25b-3a4cbfbd699c"
      },
      "execution_count": null,
      "outputs": [
        {
          "output_type": "stream",
          "name": "stdout",
          "text": [
            "10  enqueued to queue\n",
            "20  enqueued to queue\n",
            "30  enqueued to queue\n",
            "40  enqueued to queue\n",
            "\n",
            "10  dequeued from queue\n",
            "20  dequeued from queue\n",
            "\n",
            "Queue : 30 40 "
          ]
        }
      ]
    },
    {
      "cell_type": "markdown",
      "source": [
        "Queue Implementation using List"
      ],
      "metadata": {
        "id": "LM7uiXP8TII_"
      }
    },
    {
      "cell_type": "code",
      "source": [
        "queue = []\n",
        "\n",
        "# Adding elements to the queue\n",
        "queue.append('a')\n",
        "queue.append('b')\n",
        "queue.append('c')\n",
        "queue.append('d')\n",
        "queue.append('e')\n",
        "\n",
        "print(\"Initial queue\")\n",
        "print(queue)\n",
        "\n",
        "print(\"Front: \", queue[0])\n",
        "print(\"Rear: \", queue[-1])\n",
        "\n",
        "# Removing elements from the queue\n",
        "print(\"\\nElements dequeued from queue\")\n",
        "print(queue.pop(0))\n",
        "print(queue.pop(0))\n",
        "print(queue.pop(0))\n",
        "\n",
        "print(\"\\nQueue after removing elements\")\n",
        "print(queue)\n",
        "\n",
        "# If we remove these comments print(queue.pop(0))\n",
        "# we will get IndexError\n",
        "# as the queue is empty"
      ],
      "metadata": {
        "colab": {
          "base_uri": "https://localhost:8080/"
        },
        "id": "HNM-HeNETM0O",
        "outputId": "b9623ca6-5106-49dc-f39f-fb4b4c588189"
      },
      "execution_count": null,
      "outputs": [
        {
          "output_type": "stream",
          "name": "stdout",
          "text": [
            "Initial queue\n",
            "['a', 'b', 'c', 'd', 'e']\n",
            "Front:  a\n",
            "Rear:  e\n",
            "\n",
            "Elements dequeued from queue\n",
            "a\n",
            "b\n",
            "c\n",
            "\n",
            "Queue after removing elements\n",
            "['d', 'e']\n"
          ]
        }
      ]
    },
    {
      "cell_type": "markdown",
      "source": [
        "Circular Queue"
      ],
      "metadata": {
        "id": "gDBmqegTxy7b"
      }
    },
    {
      "cell_type": "code",
      "source": [
        "from sys import maxsize\n",
        "\n",
        "class Queue:\n",
        "    def __init__(self, cap):\n",
        "        self.queue = [None] * cap\n",
        "        self.capacity = cap\n",
        "        self.front = -1\n",
        "        self.rear = -1\n",
        "        self.curr_size = 0\n",
        "\n",
        "    def is_full(self):\n",
        "        return (self.front == self.rear + 1) or (self.front == 0 and self.rear == self.capacity - 1)\n",
        "\n",
        "    def is_empty(self):\n",
        "        return self.front == -1\n",
        "\n",
        "    def enqueue(self, item):\n",
        "        if self.is_full():\n",
        "            print(\"Can't add the queue is full \")\n",
        "\n",
        "        else:\n",
        "            if self.front == -1:\n",
        "                self.front = 0\n",
        "\n",
        "            self.rear = (self.rear + 1) % self.capacity\n",
        "            self.queue[self.rear] = item\n",
        "            print(item, \" was added\")\n",
        "\n",
        "    def dequeue(self):\n",
        "        item = None\n",
        "        if self.is_empty():\n",
        "            print(\"Can't add the queue is empty\");\n",
        "            return -maxsize\n",
        "        else:\n",
        "            item = self.queue[self.front]\n",
        "\n",
        "            if self.front == self.rear:\n",
        "                self.front = self.rear = -1\n",
        "            else:\n",
        "                self.front = (self.front + 1) % self.capacity\n",
        "\n",
        "            print(item, \" dequeued\")\n",
        "            return item\n",
        "\n",
        "    # function to display the queue\n",
        "    def display(self):\n",
        "        i = 0\n",
        "        if self.is_empty():\n",
        "            print(\"Empty Queue\")\n",
        "        else:\n",
        "            print(\"\\nQueue: \")\n",
        "            i = self.front\n",
        "            while i != self.rear:\n",
        "                print(self.queue[i], end=\" \")\n",
        "                i = (i + 1) % self.capacity\n",
        "\n",
        "            print(self.queue[i])\n",
        "\n",
        "\n",
        "# Driver Code\n",
        "q = Queue(6)\n",
        "q.dequeue()  # Underflow condition\n",
        "\n",
        "q.enqueue(12)\n",
        "q.enqueue(14)\n",
        "q.enqueue(16)\n",
        "q.enqueue(18)\n",
        "q.enqueue(20)\n",
        "\n",
        "q.display()\n",
        "q.dequeue()\n",
        "q.dequeue()\n",
        "\n",
        "q.display()\n",
        "\n",
        "q.enqueue(22)\n",
        "q.enqueue(24)\n",
        "q.enqueue(26)\n",
        "q.enqueue(28)  # Overflow condition\n",
        "q.display()"
      ],
      "metadata": {
        "colab": {
          "base_uri": "https://localhost:8080/"
        },
        "id": "XHBlPdMwx3pv",
        "outputId": "505e747d-a807-4fa8-f88b-9cc31f4e1a74"
      },
      "execution_count": null,
      "outputs": [
        {
          "output_type": "stream",
          "name": "stdout",
          "text": [
            "Can't add the queue is empty\n",
            "12  was added\n",
            "14  was added\n",
            "16  was added\n",
            "18  was added\n",
            "20  was added\n",
            "\n",
            "Queue: \n",
            "12 14 16 18 20\n",
            "12  dequeued\n",
            "14  dequeued\n",
            "\n",
            "Queue: \n",
            "16 18 20\n",
            "22  was added\n",
            "24  was added\n",
            "26  was added\n",
            "Can't add the queue is full \n",
            "\n",
            "Queue: \n",
            "16 18 20 22 24 26\n"
          ]
        }
      ]
    },
    {
      "cell_type": "markdown",
      "source": [
        "Reverse Queue"
      ],
      "metadata": {
        "id": "VD5fdiXQdd-D"
      }
    },
    {
      "cell_type": "code",
      "source": [
        "from collections import deque\n",
        "def reverse(queue):\n",
        "\tStack = []\n",
        "\twhile (queue):\n",
        "\t\tStack.append(queue[0])\n",
        "\t\tqueue.popleft()\n",
        "\n",
        "\twhile (len(Stack) != 0):\n",
        "\t\tqueue.append(Stack[-1])\n",
        "\t\tStack.pop()\n",
        "\n",
        "queue=deque([10,20,30,40,50])\n",
        "reverse(queue)\n",
        "print(queue)\n"
      ],
      "metadata": {
        "colab": {
          "base_uri": "https://localhost:8080/"
        },
        "id": "R2kD8Ldrdqa5",
        "outputId": "3dc8114d-fdd2-495d-d925-76dceb965a39"
      },
      "execution_count": null,
      "outputs": [
        {
          "output_type": "stream",
          "name": "stdout",
          "text": [
            "deque([50, 40, 30, 20, 10])\n"
          ]
        }
      ]
    },
    {
      "cell_type": "markdown",
      "source": [
        "# LinkedList"
      ],
      "metadata": {
        "id": "aKtkbSbltYkl"
      }
    },
    {
      "cell_type": "markdown",
      "source": [
        "LinkedList Insertion"
      ],
      "metadata": {
        "id": "DvYa5ohatcna"
      }
    },
    {
      "cell_type": "code",
      "source": [
        "class Node:\n",
        "  def __init__(self,data):\n",
        "    self.data = data\n",
        "    self.next = None\n",
        "\n",
        "class LinkedList:\n",
        "  def __init__(self):\n",
        "    self.head = None\n",
        "# Insertion at Start\n",
        "  def insertStart(self,data):\n",
        "    new_node = Node(data)\n",
        "    new_node.next = self.head\n",
        "    self.head = new_node\n",
        "# Insertion at Last\n",
        "  def insertLast(self, data):\n",
        "    new_node = Node(data)\n",
        "    new_node.next = None\n",
        "    #Need this if there in no node present in Linkedlist at all\n",
        "    if self.head is None:\n",
        "      self.head = new_node\n",
        "      return\n",
        "\n",
        "    temp = self.head\n",
        "    while temp.next is not None:\n",
        "      temp = temp.next\n",
        "    temp.next = new_node\n",
        "\n",
        "# Insertion at Position\n",
        "  def insertPosition(self,pos,data):\n",
        "    size = self.calcSize()\n",
        "\n",
        "    if pos < 1 or size < pos:\n",
        "      print('Cant Insert', pos, ' not valid.')\n",
        "    else:\n",
        "      temp = self.head\n",
        "      new_node = Node(data)\n",
        "      for i in range(1, pos):\n",
        "        temp = temp.next\n",
        "        pos -= 1\n",
        "      new_node.next = temp.next\n",
        "      temp.next = new_node\n",
        "\n",
        "  def display(self):\n",
        "    temp = self.head\n",
        "    while temp:\n",
        "      print(temp.data, end=' ')\n",
        "      temp = temp.next\n",
        "\n",
        "  def calcSize(self):\n",
        "    size = 0\n",
        "    node = self.head\n",
        "    while node is not None:\n",
        "      node = node.next\n",
        "      size += 1\n",
        "    return size\n",
        "\n",
        "#Drive Code\n",
        "ll = LinkedList()\n",
        "ll.insertStart(12)\n",
        "ll.insertStart(16)\n",
        "ll.insertStart(20)\n",
        "ll.insertLast(10)\n",
        "ll.insertLast(14)\n",
        "ll.insertLast(18)\n",
        "ll.insertLast(11)\n",
        "#Inserts after 3rd position\n",
        "ll.insertPosition(3, 25)\n",
        "ll.display()"
      ],
      "metadata": {
        "colab": {
          "base_uri": "https://localhost:8080/"
        },
        "id": "ZeX556wjtqHs",
        "outputId": "d753b7bf-467a-4547-f83e-3331874adf2e"
      },
      "execution_count": null,
      "outputs": [
        {
          "output_type": "stream",
          "name": "stdout",
          "text": [
            "20 16 12 25 10 14 18 11 "
          ]
        }
      ]
    },
    {
      "cell_type": "markdown",
      "source": [
        "LinkedList Deletion"
      ],
      "metadata": {
        "id": "JWvwiG32_ePb"
      }
    },
    {
      "cell_type": "code",
      "source": [
        "class Node:\n",
        "  def __init__(self,data):\n",
        "    self.data = data\n",
        "    self.next = None\n",
        "class LinkedList:\n",
        "  def __init__(self):\n",
        "    self.head = None\n",
        "\n",
        "  def insert(self,data):\n",
        "    new_node = Node(data)\n",
        "    new_node.next = self.head\n",
        "    self.head = new_node\n",
        "\n",
        "  def display(self):\n",
        "    temp = self.head\n",
        "    while temp:\n",
        "      print(temp.data,end=' ')\n",
        "      temp = temp.next\n",
        "\n",
        "  def delete_node(self,pos):\n",
        "    temp = self.head\n",
        "    prev = None\n",
        "    size = self.calcSize()\n",
        "\n",
        "    if pos < 1 or pos > size:\n",
        "      print('pos:{0}, size:{1}'.format(pos,size))\n",
        "      return\n",
        "\n",
        "    if pos == 1:\n",
        "      self.head = temp.next\n",
        "      print(temp.data)\n",
        "      return\n",
        "\n",
        "    for i in range(1,pos):\n",
        "      prev = temp\n",
        "      temp = temp.next\n",
        "      pos -= 1\n",
        "    prev.next = temp.next\n",
        "    print(temp.data)\n",
        "\n",
        "  def calcSize(self):\n",
        "    size = 0\n",
        "    node = self.head\n",
        "    while node is not None:\n",
        "      node = node.next\n",
        "      size += 1\n",
        "    return size\n",
        "\n",
        "ll = LinkedList ()\n",
        "\n",
        "ll.insert (12)\n",
        "ll.insert (16)\n",
        "ll.insert (20)\n",
        "ll.insert (24)\n",
        "ll.insert (30)\n",
        "ll.insert (22)\n",
        "\n",
        "ll.display ()\n",
        "\n",
        "ll.delete_node (1)\n",
        "ll.display ()\n",
        "\n",
        "ll.delete_node (3)\n",
        "ll.display ()\n",
        "\n",
        "ll.delete_node (4)\n",
        "ll.display ()\n",
        "\n",
        "ll.delete_node (-2)\n",
        "ll.delete_node (10)\n",
        "\n",
        "ll.display ()"
      ],
      "metadata": {
        "colab": {
          "base_uri": "https://localhost:8080/"
        },
        "id": "Fg-YDrAi_ucw",
        "outputId": "65f02d02-18dd-47ca-d33b-5f34c79bc17a"
      },
      "execution_count": null,
      "outputs": [
        {
          "output_type": "stream",
          "name": "stdout",
          "text": [
            "22 30 24 20 16 12 22\n",
            "30 24 20 16 12 20\n",
            "30 24 16 12 12\n",
            "30 24 16 pos:-2, size:3\n",
            "pos:10, size:3\n",
            "30 24 16 "
          ]
        }
      ]
    },
    {
      "cell_type": "markdown",
      "source": [
        "Doubly LinkedList Insertion"
      ],
      "metadata": {
        "id": "YQKgqI1r1ya6"
      }
    },
    {
      "cell_type": "code",
      "source": [
        "class Node:\n",
        "  def __init__(self,data):\n",
        "    self.data = data\n",
        "    self.next = None\n",
        "    self.prev = None\n",
        "class LinkedList:\n",
        "  def __init__(self):\n",
        "    self.head = None\n",
        "\n",
        "  def insert_start(self,data):\n",
        "    new_node = Node(data)\n",
        "    new_node.next = self.head\n",
        "\n",
        "    if self.head != None:\n",
        "      self.head.prev = new_node\n",
        "    self.head = new_node\n",
        "\n",
        "  def insert_last(self, data):\n",
        "    new_node = Node(data)\n",
        "\n",
        "    if self.head == None:\n",
        "      self.head = new_node\n",
        "      return\n",
        "\n",
        "    temp = self.head\n",
        "    while temp.next != None:\n",
        "      temp = temp.next\n",
        "    temp.next = new_node\n",
        "    new_node.prev = temp\n",
        "\n",
        "  def display(self):\n",
        "    temp = self.head\n",
        "    end = None\n",
        "    while temp:\n",
        "      print(temp.data,end=' ')\n",
        "      end = temp\n",
        "      temp = temp.next\n",
        "    while end:\n",
        "      print(end.data,end=' ')\n",
        "      end = end.prev\n",
        "\n",
        "ll = LinkedList ()\n",
        "\n",
        "ll.insert_start (12)\n",
        "ll.insert_start (16)\n",
        "ll.insert_start (20)\n",
        "ll.insert_last (10)\n",
        "ll.insert_last (14)\n",
        "ll.insert_last (18)\n",
        "ll.insert_last (11)\n",
        "\n",
        "ll.display ()"
      ],
      "metadata": {
        "colab": {
          "base_uri": "https://localhost:8080/"
        },
        "id": "24yKJibk17F2",
        "outputId": "30c25b9e-2202-4a1f-feea-daffb8914dc3"
      },
      "execution_count": null,
      "outputs": [
        {
          "output_type": "stream",
          "name": "stdout",
          "text": [
            "20 16 12 10 14 18 11 11 18 14 10 12 16 20 "
          ]
        }
      ]
    },
    {
      "cell_type": "markdown",
      "source": [
        "Doubly LinkedList Deletion"
      ],
      "metadata": {
        "id": "jeMBURkIB_SX"
      }
    },
    {
      "cell_type": "code",
      "source": [
        "class Node:\n",
        "    def __init__(self, data):\n",
        "        self.data = data\n",
        "        self.next = None\n",
        "        self.prev = None\n",
        "\n",
        "class LinkedList:\n",
        "    def __init__(self):\n",
        "        self.head = None\n",
        "\n",
        "    def insert(self, data):\n",
        "        new_node = Node(data)\n",
        "        new_node.next = self.head\n",
        "\n",
        "        # If Linked List already had at least 1 node\n",
        "        if self.head is not None:\n",
        "            self.head.prev = new_node\n",
        "\n",
        "        # Changing the head to freshly entered node\n",
        "        self.head = new_node\n",
        "\n",
        "    def delete_node(self, delVal):\n",
        "        temp = self.head\n",
        "        previous = None\n",
        "\n",
        "        # Case when there is only 1 node in the list\n",
        "        if temp is not None and temp.next is None:\n",
        "            self.head = None\n",
        "            print(\"\\nValue deleted: \", temp.data)\n",
        "            return\n",
        "\n",
        "\n",
        "        # Run until we find the value to be deleted in the list\n",
        "        while temp is not None and temp.data != delVal:\n",
        "            previous = temp\n",
        "            temp = temp.next\n",
        "\n",
        "        # If value is not present then temp will have traversed to the last node (None)\n",
        "        if temp is None:\n",
        "            print(\"\\nValue not found\")\n",
        "            return\n",
        "\n",
        "        # Unlink the node from the linked list\n",
        "        previous.next = temp.next\n",
        "\n",
        "        # If the last node is to be deleted\n",
        "        if temp.next is None:\n",
        "            print(\"\\nValue deleted: \", temp.data)\n",
        "            return\n",
        "\n",
        "        # Unlink the previous reference of the next node\n",
        "        temp.next.prev = previous\n",
        "\n",
        "        print(\"\\nValue deleted: \", temp.data)\n",
        "        return\n",
        "\n",
        "    def display(self):\n",
        "        temp = self.head\n",
        "        end = None\n",
        "\n",
        "        print(\"Linked List in Forward Direction\")\n",
        "        while temp:\n",
        "            print(temp.data, end=\" \")\n",
        "            end = temp\n",
        "            temp = temp.next\n",
        "        print(\"\")\n",
        "\n",
        "        print(\"Linked List in Backward Direction\")\n",
        "        while end:\n",
        "            print(end.data, end=\" \")\n",
        "            end = end.prev\n",
        "        print(\"\")\n",
        "\n",
        "# Driver Code\n",
        "ll = LinkedList()\n",
        "\n",
        "ll.insert(12)\n",
        "ll.insert(16)\n",
        "ll.insert(20)\n",
        "ll.insert(24)\n",
        "ll.insert(30)\n",
        "ll.insert(22)\n",
        "\n",
        "ll.display()\n",
        "\n",
        "# Deleting first occurrence of a value in linked list\n",
        "ll.delete_node(22)\n",
        "ll.display()\n",
        "\n",
        "ll.delete_node(20)\n",
        "ll.display()\n",
        "\n",
        "ll.delete_node(12)\n",
        "ll.display()\n",
        "\n",
        "ll.delete_node(30)\n",
        "ll.display()\n",
        "\n",
        "ll.delete_node(16)\n",
        "ll.display()\n",
        "\n",
        "ll.delete_node(24)\n",
        "ll.display()\n"
      ],
      "metadata": {
        "colab": {
          "base_uri": "https://localhost:8080/"
        },
        "id": "3kUOVEQVCGgK",
        "outputId": "8ffbda1e-3ced-4f0c-aad6-701daebbf2a0"
      },
      "execution_count": null,
      "outputs": [
        {
          "output_type": "stream",
          "name": "stdout",
          "text": [
            "Linked List in Forward Direction\n",
            "22 30 24 20 16 12 \n",
            "Linked List in Backward Direction\n",
            "12 16 20 24 30 22 \n",
            "\n",
            "Value deleted:  22\n",
            "Linked List in Forward Direction\n",
            "30 24 20 16 12 \n",
            "Linked List in Backward Direction\n",
            "12 16 20 24 30 \n",
            "\n",
            "Value deleted:  20\n",
            "Linked List in Forward Direction\n",
            "30 24 16 12 \n",
            "Linked List in Backward Direction\n",
            "12 16 24 30 \n",
            "\n",
            "Value deleted:  12\n",
            "Linked List in Forward Direction\n",
            "30 24 16 \n",
            "Linked List in Backward Direction\n",
            "16 24 30 \n",
            "\n",
            "Value deleted:  30\n",
            "Linked List in Forward Direction\n",
            "24 16 \n",
            "Linked List in Backward Direction\n",
            "16 24 \n",
            "\n",
            "Value deleted:  16\n",
            "Linked List in Forward Direction\n",
            "24 \n",
            "Linked List in Backward Direction\n",
            "24 \n",
            "\n",
            "Value deleted:  24\n",
            "Linked List in Forward Direction\n",
            "\n",
            "Linked List in Backward Direction\n",
            "\n"
          ]
        }
      ]
    },
    {
      "cell_type": "markdown",
      "source": [
        "Circular LinkedList Insertion at Start"
      ],
      "metadata": {
        "id": "UwNFYaBFUL6m"
      }
    },
    {
      "cell_type": "code",
      "source": [
        "#Note Classes are are mutable data type in python\n",
        "class Node:\n",
        "\n",
        "    def __init__ (self, data):\n",
        "        self.data = data\n",
        "        self.next = None\n",
        "\n",
        "class LinkedList:\n",
        "    def __init__ (self):\n",
        "        self.head = None\n",
        "\n",
        "    def insert (self, data):\n",
        "        new_node = Node (data)\n",
        "\n",
        "        #if trying to enter the first node itself\n",
        "        if self.head == None:\n",
        "            self.head = new_node\n",
        "            new_node.next = new_node\n",
        "            return\n",
        "\n",
        "        curr = self.head\n",
        "        #Traverse till the end of LL\n",
        "        while curr.next != self.head:\n",
        "            curr = curr.next\n",
        "\n",
        "        curr.next = new_node\n",
        "        new_node.next = self.head\n",
        "        self.head = new_node\n",
        "\n",
        "    def display (self):\n",
        "        temp = self.head\n",
        "        if temp == None:\n",
        "            return\n",
        "\n",
        "        while True:\n",
        "            print (temp.data, end = \" \")\n",
        "            temp = temp.next\n",
        "            if temp== self.head:\n",
        "                break\n",
        "\n",
        "#Drive Code\n",
        "ll = LinkedList ()\n",
        "\n",
        "ll.insert (12)\n",
        "ll.insert (16)\n",
        "ll.insert (20)\n",
        "\n",
        "ll.insert (24)\n",
        "ll.insert (30)\n",
        "ll.insert (22)\n",
        "\n",
        "ll.display ()"
      ],
      "metadata": {
        "id": "5WHqgZ6ZU05y",
        "colab": {
          "base_uri": "https://localhost:8080/"
        },
        "outputId": "a452e203-0c00-4edc-aec9-fe6e801e6090"
      },
      "execution_count": null,
      "outputs": [
        {
          "output_type": "stream",
          "name": "stdout",
          "text": [
            "22 30 24 20 16 12 "
          ]
        }
      ]
    },
    {
      "cell_type": "markdown",
      "source": [
        "Optimization"
      ],
      "metadata": {
        "id": "ph0UU45IBZot"
      }
    },
    {
      "cell_type": "code",
      "source": [
        "#Note Classes are are mutable data type in python\n",
        "class Node:\n",
        "\n",
        "    def __init__ (self, data):\n",
        "        self.data = data\n",
        "        self.next = None\n",
        "\n",
        "class LinkedList:\n",
        "    def __init__ (self):\n",
        "        self.head = None\n",
        "\n",
        "    def insert (self, data):\n",
        "        new_node = Node (data)\n",
        "\n",
        "        #if trying to enter the first node itself\n",
        "        if self.head == None:\n",
        "            self.head = new_node\n",
        "            new_node.next = new_node\n",
        "            return\n",
        "\n",
        "        new_node.next = self.head.next\n",
        "        self.head.next = new_node\n",
        "\n",
        "        temp = self.head.data\n",
        "        self.head.data = new_node.data\n",
        "        new_node.data = temp\n",
        "\n",
        "    def display (self):\n",
        "        temp = self.head\n",
        "        if temp == None:\n",
        "            return\n",
        "        while True:\n",
        "            print (temp.data, end = \" \")\n",
        "            temp = temp.next\n",
        "            if temp== self.head:\n",
        "                break\n",
        "#Drive Code\n",
        "ll = LinkedList ()\n",
        "ll.insert (12)\n",
        "ll.insert (16)\n",
        "ll.insert (20)\n",
        "ll.insert (24)\n",
        "ll.insert (30)\n",
        "ll.insert (22)\n",
        "ll.display ()"
      ],
      "metadata": {
        "colab": {
          "base_uri": "https://localhost:8080/"
        },
        "id": "L3RzPI2QBbaj",
        "outputId": "a0e43ddd-e767-45e3-b0c8-e59daafe444d"
      },
      "execution_count": null,
      "outputs": [
        {
          "output_type": "stream",
          "name": "stdout",
          "text": [
            "22 30 24 20 16 12 "
          ]
        }
      ]
    },
    {
      "cell_type": "markdown",
      "source": [
        "Circular LinkedList Insertion at end"
      ],
      "metadata": {
        "id": "lZPS6yFcCWfW"
      }
    },
    {
      "cell_type": "code",
      "source": [
        "#Note Classes are are mutable data type in python\n",
        "class Node:\n",
        "\n",
        "    def __init__ (self, data):\n",
        "        self.data = data\n",
        "        self.next = None\n",
        "\n",
        "class LinkedList:\n",
        "    def __init__ (self):\n",
        "        self.head = None\n",
        "\n",
        "    def insert (self, data):\n",
        "        new_node = Node (data)\n",
        "\n",
        "        #if trying to enter the first node itself\n",
        "        if self.head == None:\n",
        "            self.head = new_node\n",
        "            new_node.next = new_node\n",
        "            return\n",
        "\n",
        "        curr = self.head\n",
        "        #Traverse till the end of LL\n",
        "        while curr.next != self.head:\n",
        "            curr = curr.next\n",
        "\n",
        "        curr.next = new_node\n",
        "        new_node.next = self.head\n",
        "\n",
        "    def display (self):\n",
        "        temp = self.head\n",
        "        if temp== None:\n",
        "            return\n",
        "\n",
        "        while True:\n",
        "            print (temp.data, end = \" \")\n",
        "            temp = temp.next\n",
        "            if temp== self.head:\n",
        "                break\n",
        "\n",
        "#Drive Code\n",
        "ll = LinkedList ()\n",
        "\n",
        "ll.insert (12)\n",
        "ll.insert (16)\n",
        "ll.insert (20)\n",
        "\n",
        "ll.insert (24)\n",
        "ll.insert (30)\n",
        "ll.insert (22)\n",
        "\n",
        "ll.display ()"
      ],
      "metadata": {
        "colab": {
          "base_uri": "https://localhost:8080/"
        },
        "id": "NMpQ_fSeCew_",
        "outputId": "f67e4edc-03cd-4e41-a6aa-dd0962395e36"
      },
      "execution_count": null,
      "outputs": [
        {
          "output_type": "stream",
          "name": "stdout",
          "text": [
            "12 16 20 24 30 22 "
          ]
        }
      ]
    },
    {
      "cell_type": "markdown",
      "source": [
        "Optimized"
      ],
      "metadata": {
        "id": "yDnK6z1iDtXS"
      }
    },
    {
      "cell_type": "code",
      "source": [
        "#Note Classes are are mutable data type in python\n",
        "class Node:\n",
        "\n",
        "    def __init__ (self, data):\n",
        "        self.data = data\n",
        "        self.next = None\n",
        "\n",
        "class LinkedList:\n",
        "    def __init__ (self):\n",
        "        self.head = None\n",
        "\n",
        "    def insert (self, data):\n",
        "        new_node = Node (data)\n",
        "\n",
        "        #if trying to enter the first node itself\n",
        "        if self.head == None:\n",
        "            self.head = new_node\n",
        "            new_node.next = new_node\n",
        "            return\n",
        "\n",
        "        # Adding Elements\n",
        "        new_node.next = self.head.next\n",
        "        self.head.next = new_node\n",
        "        # swapping\n",
        "        temp = self.head.data\n",
        "        self.head.data = new_node.data\n",
        "        new_node.data = temp\n",
        "\n",
        "        self.head = new_node\n",
        "\n",
        "    def display (self):\n",
        "        temp = self.head\n",
        "        if temp== None:\n",
        "            return\n",
        "\n",
        "        while True:\n",
        "            print (temp.data, end = \" \")\n",
        "            temp = temp.next\n",
        "            if temp== self.head:\n",
        "                break\n",
        "\n",
        "#Drive Code\n",
        "ll = LinkedList ()\n",
        "\n",
        "ll.insert (12)\n",
        "ll.insert (16)\n",
        "ll.insert (20)\n",
        "\n",
        "ll.insert (24)\n",
        "ll.insert (30)\n",
        "ll.insert (22)\n",
        "\n",
        "ll.display ()"
      ],
      "metadata": {
        "colab": {
          "base_uri": "https://localhost:8080/"
        },
        "id": "r535l_uxDwFo",
        "outputId": "41093c8b-c045-42cd-a2d9-0d567184d71c"
      },
      "execution_count": null,
      "outputs": [
        {
          "output_type": "stream",
          "name": "stdout",
          "text": [
            "12 16 20 24 30 22 "
          ]
        }
      ]
    },
    {
      "cell_type": "markdown",
      "source": [
        "Circular LinkedList Deletion at Head"
      ],
      "metadata": {
        "id": "eKdjzq2bEq1c"
      }
    },
    {
      "cell_type": "code",
      "source": [
        "#Note Classes are are mutable data type in python\n",
        "class Node:\n",
        "\n",
        "    def __init__ (self, data):\n",
        "        self.data = data\n",
        "        self.next = None\n",
        "\n",
        "class LinkedList:\n",
        "    def __init__ (self):\n",
        "        self.head = None\n",
        "\n",
        "    def insert (self, data):\n",
        "        new_node = Node (data)\n",
        "\n",
        "        #if trying to enter the first node itself\n",
        "        if self.head == None:\n",
        "            self.head = new_node\n",
        "            new_node.next = new_node\n",
        "            return\n",
        "\n",
        "        #add element just after the head node\n",
        "        #swap data values of new_node and head node\n",
        "        new_node.next = self.head.next\n",
        "        self.head.next = new_node\n",
        "        self.head.data, new_node.data = new_node.data, self.head.data\n",
        "\n",
        "    def deleteStart (self):\n",
        "\n",
        "      # if LL is empty\n",
        "      if self.head == None:\n",
        "        return\n",
        "\n",
        "      # If there is only one node\n",
        "      if self.head.next == self.head:\n",
        "        print(self.head.data)\n",
        "        self.head = None\n",
        "        return\n",
        "\n",
        "      # Having Multiple Nodes but need to delete head node\n",
        "      curr = self.head\n",
        "      while curr.next != self.head:\n",
        "        curr = curr.next\n",
        "      curr.next = self.head.next\n",
        "      self.head = self.head.next\n",
        "\n",
        "\n",
        "    def display (self):\n",
        "        temp = self.head\n",
        "        if temp == None:\n",
        "          print (\"LL empty, cant print anything\")\n",
        "          return\n",
        "        while True:\n",
        "          print (temp.data, end = \" \")\n",
        "          temp = temp.next\n",
        "          if temp== self.head:\n",
        "            break\n",
        "        print ()\n",
        "\n",
        "\n",
        "#Drive Code\n",
        "ll = LinkedList ()\n",
        "\n",
        "ll.insert (12)\n",
        "ll.insert (16)\n",
        "ll.insert (20)\n",
        "\n",
        "ll.insert (24)\n",
        "ll.insert (30)\n",
        "ll.insert (22)\n",
        "\n",
        "ll.display ()\n",
        "print ()\n",
        "\n",
        "ll.deleteStart ()\n",
        "ll.display ()\n",
        "\n",
        "ll.deleteStart ()\n",
        "ll.display ()\n",
        "\n",
        "ll.deleteStart ()\n",
        "ll.display ()\n",
        "\n",
        "ll.deleteStart ()\n",
        "ll.display ()\n",
        "\n",
        "ll.deleteStart ()\n",
        "ll.display ()\n",
        "\n",
        "ll.deleteStart ()\n",
        "ll.display ()\n",
        "\n",
        "ll.deleteStart ()\n",
        "ll.display ()"
      ],
      "metadata": {
        "colab": {
          "base_uri": "https://localhost:8080/"
        },
        "id": "i-P8MRyFE9DF",
        "outputId": "4a89d6ba-e9c9-4834-f815-7bb8d367b8aa"
      },
      "execution_count": null,
      "outputs": [
        {
          "output_type": "stream",
          "name": "stdout",
          "text": [
            "22 30 24 20 16 12 \n",
            "\n",
            "30 24 20 16 12 \n",
            "24 20 16 12 \n",
            "20 16 12 \n",
            "16 12 \n",
            "12 \n",
            "12\n",
            "LL empty, cant print anything\n",
            "LL empty, cant print anything\n"
          ]
        }
      ]
    },
    {
      "cell_type": "markdown",
      "source": [
        "Optimized"
      ],
      "metadata": {
        "id": "f8A_r0lPlfDv"
      }
    },
    {
      "cell_type": "code",
      "source": [
        "#Note Classes are are mutable data type in python\n",
        "class Node:\n",
        "\n",
        "    def __init__ (self, data):\n",
        "        self.data = data\n",
        "        self.next = None\n",
        "\n",
        "class LinkedList:\n",
        "    def __init__ (self):\n",
        "        self.head = None\n",
        "\n",
        "    def insert (self, data):\n",
        "        new_node = Node (data)\n",
        "\n",
        "        #if trying to enter the first node itself\n",
        "        if self.head == None:\n",
        "            self.head = new_node\n",
        "            new_node.next = new_node\n",
        "            return\n",
        "\n",
        "        #add element just after the head node\n",
        "        #swap data values of new_node and head node\n",
        "        new_node.next = self.head.next\n",
        "        self.head.next = new_node\n",
        "        self.head.data, new_node.data = new_node.data, self.head.data\n",
        "\n",
        "    def deleteStart (self):\n",
        "\n",
        "      if self.head == None:\n",
        "        return\n",
        "\n",
        "      if self.head.next == self.head:\n",
        "        print(self.head.data)\n",
        "        self.head = None\n",
        "        return\n",
        "\n",
        "      self.head.data = self.head.next.data\n",
        "      self.head.next = self.head.next.next\n",
        "\n",
        "    def display (self):\n",
        "        temp = self.head\n",
        "        if temp == None:\n",
        "          print (\"LL empty, cant print anything\")\n",
        "          return\n",
        "        while True:\n",
        "          print (temp.data, end = \" \")\n",
        "          temp = temp.next\n",
        "          if temp== self.head:\n",
        "            break\n",
        "        print ()\n",
        "\n",
        "\n",
        "\n",
        "#Drive Code\n",
        "ll = LinkedList ()\n",
        "\n",
        "ll.insert (12)\n",
        "ll.insert (16)\n",
        "ll.insert (20)\n",
        "\n",
        "ll.insert (24)\n",
        "ll.insert (30)\n",
        "ll.insert (22)\n",
        "\n",
        "ll.display ()\n",
        "print ()\n",
        "\n",
        "ll.deleteStart ()\n",
        "ll.display ()\n",
        "\n",
        "ll.deleteStart ()\n",
        "ll.display ()\n",
        "\n",
        "ll.deleteStart ()\n",
        "ll.display ()\n",
        "\n",
        "ll.deleteStart ()\n",
        "ll.display ()\n",
        "\n",
        "ll.deleteStart ()\n",
        "ll.display ()\n",
        "\n",
        "ll.deleteStart ()\n",
        "ll.display ()\n",
        "\n",
        "ll.deleteStart ()\n",
        "ll.display ()"
      ],
      "metadata": {
        "colab": {
          "base_uri": "https://localhost:8080/"
        },
        "id": "IUSuw8Mslh0F",
        "outputId": "2eff4ecc-7eb0-4e70-8e30-807774bb7ee5"
      },
      "execution_count": null,
      "outputs": [
        {
          "output_type": "stream",
          "name": "stdout",
          "text": [
            "22 30 24 20 16 12 \n",
            "\n",
            "30 24 20 16 12 \n",
            "24 20 16 12 \n",
            "20 16 12 \n",
            "16 12 \n",
            "12 \n",
            "12\n",
            "LL empty, cant print anything\n",
            "LL empty, cant print anything\n"
          ]
        }
      ]
    },
    {
      "cell_type": "markdown",
      "source": [
        "Circular LinkedList Deletion of Kth Node"
      ],
      "metadata": {
        "id": "TI4Jp40rxP3o"
      }
    },
    {
      "cell_type": "code",
      "source": [
        "class Node:\n",
        "\n",
        "    def __init__ (self, data):\n",
        "        self.data = data\n",
        "        self.next = None\n",
        "\n",
        "class LinkedList:\n",
        "    def __init__ (self):\n",
        "        self.head = None\n",
        "\n",
        "    def insert (self, data):\n",
        "        new_node = Node (data)\n",
        "\n",
        "        #if trying to enter the first node itself\n",
        "        if self.head == None:\n",
        "            self.head = new_node\n",
        "            new_node.next = new_node\n",
        "            return\n",
        "\n",
        "        #add element just after the head node\n",
        "        #swap data values of new_node and head node\n",
        "        new_node.next = self.head.next\n",
        "        self.head.next = new_node\n",
        "        self.head.data, new_node.data = new_node.data, self.head.data\n",
        "\n",
        "    def deleteHead (self):\n",
        "        if self.head == None:\n",
        "            return\n",
        "        if self.head.next == self.head:\n",
        "            self.head = None\n",
        "            return\n",
        "\n",
        "        self.head.data = self.head.next.data\n",
        "        self.head.next = self.head.next.next\n",
        "\n",
        "    def deleteNode (self, k):\n",
        "        #if LL is already empty\n",
        "        if self.head == None:\n",
        "          return\n",
        "\n",
        "        if k == 1:\n",
        "          self.deleteHead()\n",
        "          return\n",
        "\n",
        "        curr = self.head\n",
        "        for i in range(k-2):\n",
        "          curr = curr.next\n",
        "        curr.next = curr.next.next\n",
        "\n",
        "    def display (self):\n",
        "      temp = self.head\n",
        "      if temp == None:\n",
        "        print (\"LL empty, cant print anything\")\n",
        "        return\n",
        "\n",
        "      while True :\n",
        "        print (temp.data, end = \" \")\n",
        "        temp = temp.next\n",
        "        if temp== self.head:\n",
        "          break\n",
        "      print ()\n",
        "\n",
        "#Drive Code\n",
        "ll = LinkedList ()\n",
        "\n",
        "ll.insert (12)\n",
        "ll.insert (16)\n",
        "ll.insert (20)\n",
        "\n",
        "ll.insert (24)\n",
        "ll.insert (30)\n",
        "ll.insert (22)\n",
        "\n",
        "ll.display ()\n",
        "print ()\n",
        "\n",
        "#3rd node\n",
        "ll.deleteNode (3)\n",
        "ll.display ()\n",
        "\n",
        "#last node\n",
        "ll.deleteNode (5)\n",
        "ll.display ()\n",
        "\n",
        "#first node\n",
        "ll.deleteNode (1)\n",
        "ll.display ()\n",
        "\n",
        "#second node\n",
        "ll.deleteNode (2)\n",
        "ll.display ()\n",
        "\n",
        "#first node\n",
        "ll.deleteNode (1)\n",
        "ll.display ()\n",
        "\n",
        "#first node\n",
        "ll.deleteNode (1)\n",
        "ll.display ()\n",
        "ll.display ()\n",
        "\n"
      ],
      "metadata": {
        "colab": {
          "base_uri": "https://localhost:8080/"
        },
        "id": "KnDMLCrZx_6X",
        "outputId": "9f96bc34-da45-4670-bdb0-3e0a16d98c6e"
      },
      "execution_count": null,
      "outputs": [
        {
          "output_type": "stream",
          "name": "stdout",
          "text": [
            "22 30 24 20 16 12 \n",
            "\n",
            "22 30 20 16 12 \n",
            "22 30 20 16 \n",
            "30 20 16 \n",
            "30 16 \n",
            "16 \n",
            "LL empty, cant print anything\n",
            "LL empty, cant print anything\n"
          ]
        }
      ]
    },
    {
      "cell_type": "markdown",
      "source": [
        "# Hashing"
      ],
      "metadata": {
        "id": "VQ3ICwzmYxx2"
      }
    },
    {
      "cell_type": "markdown",
      "source": [
        "Chaining Implementation"
      ],
      "metadata": {
        "id": "Lvq-2ZNFY2DY"
      }
    },
    {
      "cell_type": "code",
      "source": [
        "# Function to display hashtable\n",
        "def display_hash(hashTable):\n",
        "    for i in range(len(hashTable)):\n",
        "        print(i, end=\" \")\n",
        "\n",
        "        for j in hashTable[i]:\n",
        "            print(\"-->\", end=\" \")\n",
        "            print(j, end=\" \")\n",
        "\n",
        "        print()\n",
        "\n",
        "\n",
        "HashTable = [[] for _ in range(7)]\n",
        "\n",
        "\n",
        "def Hashing(keyvalue):\n",
        "    return keyvalue % len(HashTable)\n",
        "\n",
        "\n",
        "def insert(Hashtable, value):\n",
        "    i = value % len(HashTable)\n",
        "    Hashtable[i].append(value)\n",
        "\n",
        "\n",
        "def searchItem(hashtable, val):\n",
        "    index = val % len(HashTable)\n",
        "\n",
        "    for j in hashtable[index]:\n",
        "        if j == val:\n",
        "            print(\"{0} Present in hashtable\".format(val))\n",
        "            return\n",
        "    print(\"{0} Not present in hashtable\".format(val))\n",
        "\n",
        "\n",
        "def deleteItem(hashtable, val):\n",
        "    index = val % len(HashTable)\n",
        "    for j in hashtable[index]:\n",
        "        if j == val:\n",
        "            hashtable[index].remove(j)\n",
        "            print(\"{0} removed from hashtable\".format(val))\n",
        "\n",
        "\n",
        "# Driver Code\n",
        "insert(HashTable, 3)\n",
        "insert(HashTable, 8)\n",
        "insert(HashTable, 5)\n",
        "insert(HashTable, 1)\n",
        "insert(HashTable, 10)\n",
        "insert(HashTable, 6)\n",
        "\n",
        "searchItem(HashTable, 10)\n",
        "searchItem(HashTable, 12)\n",
        "\n",
        "deleteItem(HashTable, 10)\n",
        "searchItem(HashTable, 10)\n",
        "\n",
        "display_hash(HashTable)"
      ],
      "metadata": {
        "colab": {
          "base_uri": "https://localhost:8080/"
        },
        "id": "zTkKGjQtY54d",
        "outputId": "cb33c428-b6c7-4655-981e-d1cb55b61100"
      },
      "execution_count": null,
      "outputs": [
        {
          "output_type": "stream",
          "name": "stdout",
          "text": [
            "10 Present in hashtable\n",
            "12 Not present in hashtable\n",
            "10 removed from hashtable\n",
            "10 Not present in hashtable\n",
            "0 \n",
            "1 --> 8 --> 1 \n",
            "2 \n",
            "3 --> 3 \n",
            "4 \n",
            "5 --> 5 \n",
            "6 --> 6 \n"
          ]
        }
      ]
    },
    {
      "cell_type": "markdown",
      "source": [
        "Count Distinct Elements in an Array"
      ],
      "metadata": {
        "id": "2x8CbueHymHh"
      }
    },
    {
      "cell_type": "code",
      "source": [
        "# Time Complexity : O(n^2)\n",
        "# Space Complexity : O(1)\n",
        "def countDistinct(arr, size):\n",
        "    count = 0\n",
        "    for i in range(0, size):\n",
        "        flag = False\n",
        "        for j in range(i+1, size):\n",
        "            if arr[i] == arr[j]:\n",
        "                flag = True\n",
        "                break\n",
        "        if flag == False:\n",
        "            count += 1\n",
        "    return count\n",
        "# Driver Code\n",
        "arr = [5, 8, 5, 7, 8, 10]\n",
        "n = len(arr)\n",
        "print(countDistinct(arr, n))"
      ],
      "metadata": {
        "colab": {
          "base_uri": "https://localhost:8080/"
        },
        "id": "qtq3PoMUytTw",
        "outputId": "4a68e3ad-9ddd-4e85-b0a5-be1313ffcb2e"
      },
      "execution_count": null,
      "outputs": [
        {
          "output_type": "stream",
          "name": "stdout",
          "text": [
            "4\n"
          ]
        }
      ]
    },
    {
      "cell_type": "markdown",
      "source": [
        "Count Distinct Element in the Array(Sorting)"
      ],
      "metadata": {
        "id": "y9iGe3EaArCf"
      }
    },
    {
      "cell_type": "code",
      "source": [
        "# Time Complexity :\n",
        "# Sorting Elements : O(n log n)\n",
        "# Traverse Array : To count distinct elements O(n)\n",
        "# Thus, time complexity : O(n log n) + O(n) = O(n log n)\n",
        "# Space Complexity : O(1)\n",
        "\n",
        "def countDistinct(arr, n):\n",
        "    arr.sort()\n",
        "\n",
        "    # Traverse the sorted array\n",
        "    count = 0\n",
        "    i = 0\n",
        "    while i < n:\n",
        "\n",
        "        # Move the index ahead whenever\n",
        "        # you encounter  duplicates\n",
        "        while i < n - 1 and arr[i] == arr[i + 1]:\n",
        "            i += 1\n",
        "\n",
        "        count += 1\n",
        "        i += 1\n",
        "\n",
        "    return count\n",
        "\n",
        "\n",
        "# Driver Code\n",
        "arr = [5, 8, 5, 7, 8, 10]\n",
        "n = len(arr)\n",
        "print(countDistinct(arr, n))"
      ],
      "metadata": {
        "colab": {
          "base_uri": "https://localhost:8080/"
        },
        "id": "yWUYTJpDAw_J",
        "outputId": "f8fb0c57-e7df-410e-d589-e5c6a9eaa60f"
      },
      "execution_count": null,
      "outputs": [
        {
          "output_type": "stream",
          "name": "stdout",
          "text": [
            "4\n"
          ]
        }
      ]
    },
    {
      "cell_type": "markdown",
      "source": [
        "Print Frequent of Elements In An Array"
      ],
      "metadata": {
        "id": "-tGAIga1SzQt"
      }
    },
    {
      "cell_type": "code",
      "source": [
        "# Time Complexity : O(n^2)\n",
        "# Space Complexity : O(1)\n",
        "def countFrequency(arr, size):\n",
        "    for i in range(0, size):\n",
        "        flag = False\n",
        "        count = 0\n",
        "        for j in range(i+1, size):\n",
        "            if arr[i] == arr[j]:\n",
        "                flag = True\n",
        "                break\n",
        "        # The continue keyword is used to end the current iteration\n",
        "        # in a for loop (or a while loop), and continues to the next iteration.\n",
        "        if flag == True:\n",
        "            continue\n",
        "        for j in range(0, i+1):\n",
        "            if arr[i] == arr[j]:\n",
        "                count += 1\n",
        "        print(\"{0}: {1}\".format(arr[i], count))\n",
        "# Driver Code\n",
        "arr = [5, 8, 5, 7, 8, 10]\n",
        "n = len(arr)\n",
        "countFrequency(arr, n)"
      ],
      "metadata": {
        "colab": {
          "base_uri": "https://localhost:8080/"
        },
        "id": "IN5xPZEAS873",
        "outputId": "f911d1e3-4cfc-49f8-807c-357fbfa60b6e"
      },
      "execution_count": null,
      "outputs": [
        {
          "output_type": "stream",
          "name": "stdout",
          "text": [
            "5: 2\n",
            "7: 1\n",
            "8: 2\n",
            "10: 1\n"
          ]
        }
      ]
    },
    {
      "cell_type": "markdown",
      "source": [
        "Print Frequency of Elements in An Array(Sorting)"
      ],
      "metadata": {
        "id": "bVcm_ll7jIPy"
      }
    },
    {
      "cell_type": "code",
      "source": [
        "# Time Complexity : O(n log n) + O(n) = O(n logn)\n",
        "# Space Complexity : O(1)\n",
        "def countDistinct(arr, n):\n",
        "    arr.sort()\n",
        "    # Traverse the sorted array\n",
        "    i = 0\n",
        "    while i < n:\n",
        "        count = 1\n",
        "        # Move the index ahead whenever\n",
        "        # you encounter  duplicates\n",
        "        while i < n - 1 and arr[i] == arr[i + 1]:\n",
        "            i += 1\n",
        "            count +=1\n",
        "        print(\"{0}: {1}\".format(arr[i], count))\n",
        "        i += 1\n",
        "# Driver Code\n",
        "arr = [5, 8, 5, 7, 8, 10]\n",
        "n = len(arr)\n",
        "countDistinct(arr, n)"
      ],
      "metadata": {
        "colab": {
          "base_uri": "https://localhost:8080/"
        },
        "id": "MdXcOyzejPkp",
        "outputId": "8ce2cda3-357a-45d6-c4e8-378093e5af28"
      },
      "execution_count": null,
      "outputs": [
        {
          "output_type": "stream",
          "name": "stdout",
          "text": [
            "5: 2\n",
            "7: 1\n",
            "8: 2\n",
            "10: 1\n"
          ]
        }
      ]
    },
    {
      "cell_type": "markdown",
      "source": [
        "Print Frequency of Element in an Array (Hashing)"
      ],
      "metadata": {
        "id": "DpFl6GFNpzmz"
      }
    },
    {
      "cell_type": "code",
      "source": [
        "def countFreq(arr,n):\n",
        "  hashmap = dict()\n",
        "  for i in range(n):\n",
        "    if arr[i] in hashmap.keys():\n",
        "      hashmap[arr[i]] += 1\n",
        "    else:\n",
        "      hashmap[arr[i]] = 1\n",
        "  for x in hashmap:\n",
        "    print(x, ' : ', hashmap[x])\n",
        "\n",
        "arr = [5,8,5,7,8,10]\n",
        "n = len(arr)\n",
        "countFreq(arr,n)"
      ],
      "metadata": {
        "colab": {
          "base_uri": "https://localhost:8080/"
        },
        "id": "Mu7OC7kXp9N_",
        "outputId": "8a383d86-56d8-4440-949d-1e55c793a09c"
      },
      "execution_count": null,
      "outputs": [
        {
          "output_type": "stream",
          "name": "stdout",
          "text": [
            "5  :  2\n",
            "8  :  2\n",
            "7  :  1\n",
            "10  :  1\n"
          ]
        }
      ]
    },
    {
      "cell_type": "markdown",
      "source": [
        "Printing Frequency of Elements in an Array (Hashing Approach)"
      ],
      "metadata": {
        "id": "46SBqo2YIc7L"
      }
    },
    {
      "cell_type": "code",
      "source": [
        "# Time Complexity : O(n)\n",
        "# Space Complexity : O(1)\n",
        "def countFrequency(arr, n):\n",
        "    hashmap = dict()\n",
        "    for i in range(n):\n",
        "        if arr[i] in hashmap.keys():\n",
        "            hashmap[arr[i]] += 1\n",
        "        else:\n",
        "            hashmap[arr[i]] = 1\n",
        "    for i in range(n):\n",
        "        if hashmap[arr[i]] != -1:\n",
        "            print(\"{0}: {1}\".format(arr[i], hashmap[arr[i]]))\n",
        "            hashmap[arr[i]] = -1\n",
        "# Driver code\n",
        "arr = [5, 8, 5, 7, 8, 10]\n",
        "n = len(arr)\n",
        "countFrequency(arr, n)"
      ],
      "metadata": {
        "colab": {
          "base_uri": "https://localhost:8080/"
        },
        "id": "BWdQDyG-IlTU",
        "outputId": "d8596495-c37b-40e8-b438-9d2835172314"
      },
      "execution_count": null,
      "outputs": [
        {
          "output_type": "stream",
          "name": "stdout",
          "text": [
            "5: 2\n",
            "8: 2\n",
            "7: 1\n",
            "10: 1\n"
          ]
        }
      ]
    },
    {
      "cell_type": "markdown",
      "source": [
        "Intersection of Two Arrays"
      ],
      "metadata": {
        "id": "AIjceNo_axWk"
      }
    },
    {
      "cell_type": "code",
      "source": [
        "def intersection(a1,a2,n,m):\n",
        "  L = []\n",
        "  for i in range(0, n):\n",
        "    flag = False\n",
        "    for j in range(i+1, n):\n",
        "      if a1[i] == a1[j]:\n",
        "        flag = True\n",
        "        break\n",
        "    if flag == True:\n",
        "      continue\n",
        "    for j in range(m):\n",
        "      if a1[i] == a2[j]:\n",
        "        L.append(a1[i])\n",
        "        break\n",
        "  return L\n",
        "a1 = [5,8,5,7,8,10]\n",
        "a2 = [1,5,5,8,1,8,7]\n",
        "n = len(a1)\n",
        "m = len(a2)\n",
        "intersection(a1,a2,n,m)"
      ],
      "metadata": {
        "colab": {
          "base_uri": "https://localhost:8080/"
        },
        "id": "8XE2yINRa1q_",
        "outputId": "3e3998c0-6818-46db-e35f-2f131fef1984"
      },
      "execution_count": null,
      "outputs": [
        {
          "output_type": "execute_result",
          "data": {
            "text/plain": [
              "[5, 7, 8]"
            ]
          },
          "metadata": {},
          "execution_count": 6
        }
      ]
    },
    {
      "cell_type": "markdown",
      "source": [
        "Intersection of Two Arrays (Hashing)"
      ],
      "metadata": {
        "id": "BpIih3c3pcdB"
      }
    },
    {
      "cell_type": "code",
      "source": [
        "def getIntersection(arr1, arr2, n, m):\n",
        "    s1 = set()\n",
        "    s2 = set()\n",
        "    result = []\n",
        "    i = 0\n",
        "    j = 0\n",
        "# Inputs for s1 and s2 can be taken in two separate while/for loops but will increase time\n",
        "# Complexity because of O(n) + O(m)\n",
        "# The below while loops makes entry upper bound to O(n) if n > m or O(m) if m > n\n",
        "    while i < n or j < m:\n",
        "        if i < n:\n",
        "            s1.add(arr1[i])\n",
        "            i += 1\n",
        "        if i < m:\n",
        "            s2.add(arr2[i])\n",
        "            j += 1\n",
        "    for i in s1:\n",
        "        if i in s2:\n",
        "            result.append(i)\n",
        "    return result\n",
        "# Driver code\n",
        "arr1 = [5, 8, 5, 7, 8, 10]\n",
        "arr2 = [1, 5, 5, 8, 1, 8, 7]\n",
        "size1 = len(arr1)\n",
        "size2 = len(arr2)\n",
        "print(getIntersection(arr1, arr2, size1, size2))"
      ],
      "metadata": {
        "colab": {
          "base_uri": "https://localhost:8080/"
        },
        "id": "pYzCONyTphlI",
        "outputId": "0f3266ee-6ad1-438f-9dc5-3a7baf2cb544"
      },
      "execution_count": null,
      "outputs": [
        {
          "output_type": "stream",
          "name": "stdout",
          "text": [
            "[8, 5, 7]\n"
          ]
        }
      ]
    },
    {
      "cell_type": "markdown",
      "source": [
        "Intersection of Two Arrays (Hashing)"
      ],
      "metadata": {
        "id": "O1UqMdxftHJA"
      }
    },
    {
      "cell_type": "code",
      "source": [
        "def getIntersection(arr1, arr2, size1, size2):\n",
        "  s1 = set()\n",
        "  L = []\n",
        "  i = 0\n",
        "  while i < size1:\n",
        "    if i < size1:\n",
        "      s1.add(arr1[i])\n",
        "      i += 1\n",
        "  for i in range(size2):\n",
        "    if arr2[i] in s1:\n",
        "      L.append(arr2[i])\n",
        "      s1.remove(arr2[i])\n",
        "  return L\n",
        "\n",
        "arr1 = [5, 8, 5, 7, 8, 10]\n",
        "arr2 = [1, 5, 5, 8, 1, 8, 7]\n",
        "size1 = len(arr1)\n",
        "size2 = len(arr2)\n",
        "print(getIntersection(arr1, arr2, size1, size2))"
      ],
      "metadata": {
        "colab": {
          "base_uri": "https://localhost:8080/"
        },
        "id": "ybHzNdHrtMwK",
        "outputId": "f5ef4611-c5ea-41c8-8669-cd9d01a29fc6"
      },
      "execution_count": null,
      "outputs": [
        {
          "output_type": "stream",
          "name": "stdout",
          "text": [
            "[5, 8, 7]\n"
          ]
        }
      ]
    },
    {
      "cell_type": "markdown",
      "source": [
        "Merge Two Arrays in a sorted way"
      ],
      "metadata": {
        "id": "qepCMGtq8Pnk"
      }
    },
    {
      "cell_type": "code",
      "source": [
        "def mergeArrays(arr1, arr2, size1, size2):\n",
        "  L = []\n",
        "  arr1.sort()\n",
        "  arr2.sort()\n",
        "  i = 0\n",
        "  j = 0\n",
        "  while i < size1 and j < size2:\n",
        "    if (arr1[i] < arr2[j]):\n",
        "      L.append(arr1[i])\n",
        "      i += 1\n",
        "    else:\n",
        "      L.append(arr2[j])\n",
        "      j += 1\n",
        "  while i < size1:\n",
        "    L.append(arr1[i])\n",
        "    i += 1\n",
        "  while j < size2:\n",
        "    L.append(arr2[j])\n",
        "    j += 1\n",
        "  return L\n",
        "arr1 = [10, 2, 8, 2, 7, 3, 4, 4]\n",
        "arr2 = [11, 1, 5, 3, 11, 2, 5, 9, 3, 1]\n",
        "size1 = len(arr1)\n",
        "size2 = len(arr2)\n",
        "print(mergeArrays(arr1, arr2, size1, size2))"
      ],
      "metadata": {
        "colab": {
          "base_uri": "https://localhost:8080/"
        },
        "id": "RpS_UcBx8TVg",
        "outputId": "a198e995-1384-4b9a-9af7-474771d77e00"
      },
      "execution_count": null,
      "outputs": [
        {
          "output_type": "stream",
          "name": "stdout",
          "text": [
            "[1, 1, 2, 2, 2, 3, 3, 3, 4, 4, 5, 5, 7, 8, 9, 10, 11, 11]\n"
          ]
        }
      ]
    },
    {
      "cell_type": "markdown",
      "source": [
        "Remove Duplicates from a Sorted Array"
      ],
      "metadata": {
        "id": "XWUKqOqrK5tp"
      }
    },
    {
      "cell_type": "code",
      "source": [
        "#Time Complexity : O(n)\n",
        "#Auxiliary Space : O(1)\n",
        "def removeDuplicates(arr, n):\n",
        "    if n == 0 or n == 1:\n",
        "        return n\n",
        "    # i will be used to find next distinct element\n",
        "    # j will be used to store current index where unique element will be inserted in place\n",
        "    j = 0\n",
        "    # Just maintaining another updated index i.e. j\n",
        "    for i in range(n - 1):\n",
        "        if arr[i] != arr[i + 1]:\n",
        "            arr[j] = arr[i]\n",
        "            j += 1\n",
        "    arr[j] = arr[n - 1]\n",
        "    j += 1\n",
        "    return j\n",
        "arr1 = [1, 1, 2, 3, 4, 4, 5, 5, 5, 6, 7, 8, 8]\n",
        "size1 = len(arr1)\n",
        "index_remove = removeDuplicates(arr1, size1)\n",
        "del arr1[index_remove:]\n",
        "print(arr1)"
      ],
      "metadata": {
        "colab": {
          "base_uri": "https://localhost:8080/"
        },
        "id": "QquIJ6uCK_Qo",
        "outputId": "026c2d30-6583-40c6-aeee-50c31c9e2254"
      },
      "execution_count": null,
      "outputs": [
        {
          "output_type": "stream",
          "name": "stdout",
          "text": [
            "[1, 2, 3, 4, 5, 6, 7, 8]\n"
          ]
        }
      ]
    },
    {
      "cell_type": "markdown",
      "source": [
        "Union Of Two Arrays"
      ],
      "metadata": {
        "id": "4YlTnyr3pTci"
      }
    },
    {
      "cell_type": "code",
      "source": [
        "def getUnion(arr1,arr2,n,m):\n",
        "  L = []\n",
        "\n",
        "  for i in range(0,n):\n",
        "    flag = False\n",
        "    for j in range(i+1,n):\n",
        "      if arr1[i] == arr1[j]:\n",
        "        flag = True\n",
        "        break\n",
        "    if flag == False:\n",
        "      L.append(arr1[i])\n",
        "\n",
        "  for i in range(0,m):\n",
        "    flag = False\n",
        "    for j in range(i+1,m):\n",
        "      if arr2[i] == arr2[j]:\n",
        "        flag = True\n",
        "        break\n",
        "      if flag == False:\n",
        "\n",
        "        flag2 = False\n",
        "        for j in range(len(L)):\n",
        "          if arr2[i] == L[j]:\n",
        "            flag2 = True\n",
        "            break\n",
        "        if flag2 == False:\n",
        "          L.append(arr2[i])\n",
        "  return L\n",
        "# Driver Code\n",
        "arr1 = [5, 8, 5, 7, 8, 10, 15]\n",
        "arr2 = [1, 5, 5, 8, 1, 8, 7, 13]\n",
        "size1 = len(arr1)\n",
        "size2 = len(arr2)\n",
        "print(getUnion(arr1, arr2, size1, size2))"
      ],
      "metadata": {
        "colab": {
          "base_uri": "https://localhost:8080/"
        },
        "id": "h7WTFpA-pXIh",
        "outputId": "610d1326-8be5-41cf-af5d-b09e014491af"
      },
      "execution_count": null,
      "outputs": [
        {
          "output_type": "stream",
          "name": "stdout",
          "text": [
            "[5, 7, 8, 10, 15, 1]\n"
          ]
        }
      ]
    },
    {
      "cell_type": "markdown",
      "source": [
        "Union Of Two Arrays (Sorting)"
      ],
      "metadata": {
        "id": "iB8y3thU2wyR"
      }
    },
    {
      "cell_type": "code",
      "source": [
        "def mergeArrays(arr1,arr2,n,m):\n",
        "\n",
        "  L = []\n",
        "  arr1.sort()\n",
        "  arr2.sort()\n",
        "  i = 0\n",
        "  j = 0\n",
        "  while i < n and j < m:\n",
        "    if arr1[i] < arr2[j]:\n",
        "      L.append(arr1[i])\n",
        "      i += 1\n",
        "    else:\n",
        "      L.append(arr2[j])\n",
        "      j += 1\n",
        "  while i < n:\n",
        "    L.append(arr1[i])\n",
        "    i += 1\n",
        "  while j < m:\n",
        "    L.append(arr2[j])\n",
        "    j += 1\n",
        "\n",
        "  end = removeDuplicates(L, len(L))\n",
        "  del L[end:]\n",
        "  return L\n",
        "\n",
        "def removeDuplicates(arr, n):\n",
        "  if n == 0 or n == 1:\n",
        "    return n\n",
        "  j = 0\n",
        "  for i in range(n-1):\n",
        "    if arr[i] != arr[i+1]:\n",
        "      arr[j] = arr[i]\n",
        "      j += 1\n",
        "  arr[j] = arr[n-1]\n",
        "  j += 1\n",
        "  return j\n",
        "\n",
        "arr1 = [5, 8, 5, 7, 8, 10, 15]\n",
        "arr2 = [1, 5, 5, 8, 1, 8, 7, 13]\n",
        "size1 = len(arr1)\n",
        "size2 = len(arr2)\n",
        "mergeArrays(arr1,arr2,size1,size2)"
      ],
      "metadata": {
        "colab": {
          "base_uri": "https://localhost:8080/"
        },
        "id": "p7a6F_-P20ny",
        "outputId": "8d503261-6fb6-4073-fcdc-dfea12f9b8c4"
      },
      "execution_count": null,
      "outputs": [
        {
          "output_type": "execute_result",
          "data": {
            "text/plain": [
              "[1, 5, 7, 8, 10, 13, 15]"
            ]
          },
          "metadata": {},
          "execution_count": 6
        }
      ]
    },
    {
      "cell_type": "markdown",
      "source": [
        "Union of Two Arrays (Hashing)"
      ],
      "metadata": {
        "id": "vfsHKdfEIKZV"
      }
    },
    {
      "cell_type": "code",
      "source": [
        "def mergeArrays(arr1,arr2,n,m):\n",
        "  arr1.sort()\n",
        "  arr2.sort()\n",
        "  s1 = set()\n",
        "  s1.update(arr1)\n",
        "  s1.update(arr2)\n",
        "  return list(s1)\n",
        "arr1 = [5, 8, 5, 7, 8, 10, 15]\n",
        "arr2 = [1, 5, 5, 8, 1, 8, 7, 13]\n",
        "size1 = len(arr1)\n",
        "size2 = len(arr2)\n",
        "mergeArrays(arr1,arr2,size1,size2)"
      ],
      "metadata": {
        "colab": {
          "base_uri": "https://localhost:8080/"
        },
        "id": "QbCoWggOINq0",
        "outputId": "2df9ed30-31e2-464f-c8c6-4c2396d53304"
      },
      "execution_count": null,
      "outputs": [
        {
          "output_type": "execute_result",
          "data": {
            "text/plain": [
              "[1, 5, 7, 8, 10, 13, 15]"
            ]
          },
          "metadata": {},
          "execution_count": 8
        }
      ]
    },
    {
      "cell_type": "markdown",
      "source": [
        "Get Pair With Given Sum (Two Pointer)"
      ],
      "metadata": {
        "id": "q-jpofqs2hIo"
      }
    },
    {
      "cell_type": "code",
      "source": [
        "def pairSum(arr, sum):\n",
        "  arr = getDistinct(arr, len(arr))\n",
        "  arr.sort()\n",
        "  i = 0\n",
        "  j = len(arr)-1\n",
        "  while i < j:\n",
        "    if arr[i] + arr[j] == sum:\n",
        "      print(arr[i], arr[j])\n",
        "    if arr[i] + arr[j] < sum:\n",
        "      i += 1\n",
        "    else:\n",
        "      j -= 1\n",
        "  return 0\n",
        "\n",
        "def getDistinct(arr, size):\n",
        "  L = []\n",
        "  for i in range(0,size):\n",
        "    flag = False\n",
        "    for j in range(i+1, size):\n",
        "      if arr[i] == arr[j]:\n",
        "        flag = True\n",
        "        break\n",
        "    if flag == True:\n",
        "      continue\n",
        "    L.append(arr[i])\n",
        "  return L\n",
        "\n",
        "# Driver Code\n",
        "arr = [10, 2, 15, 2, 9, 3, 4, 12]\n",
        "size2 = len(arr)\n",
        "sum = 13\n",
        "pairSum(arr, sum)"
      ],
      "metadata": {
        "colab": {
          "base_uri": "https://localhost:8080/"
        },
        "id": "EC-aVB-Z2mpm",
        "outputId": "b16a1094-d9cf-4894-d12a-9ef7b6cc187c"
      },
      "execution_count": null,
      "outputs": [
        {
          "output_type": "stream",
          "name": "stdout",
          "text": [
            "3 10\n",
            "4 9\n"
          ]
        },
        {
          "output_type": "execute_result",
          "data": {
            "text/plain": [
              "0"
            ]
          },
          "metadata": {},
          "execution_count": 2
        }
      ]
    },
    {
      "cell_type": "markdown",
      "source": [
        "Get Pair with Given Sum (Hashing)"
      ],
      "metadata": {
        "id": "dFteg9-w8VB3"
      }
    },
    {
      "cell_type": "code",
      "source": [
        "def pairSum(arr, sum):\n",
        "  s1 = set()\n",
        "  for i in range(len(arr)):\n",
        "    if sum-arr[i] in s1:\n",
        "      print(arr[i], sum-arr[i])\n",
        "    s1.add(arr[i])\n",
        "arr = [-3,8,3,7,6,2,4,1]\n",
        "sum = 5\n",
        "pairSum(arr, sum)"
      ],
      "metadata": {
        "colab": {
          "base_uri": "https://localhost:8080/"
        },
        "id": "vqKtKlJe8avC",
        "outputId": "2a0c90d1-5254-4485-84a0-a2ad52759f1e"
      },
      "execution_count": null,
      "outputs": [
        {
          "output_type": "stream",
          "name": "stdout",
          "text": [
            "8 -3\n",
            "2 3\n",
            "1 4\n"
          ]
        }
      ]
    },
    {
      "cell_type": "markdown",
      "source": [
        "# 2D Arrays"
      ],
      "metadata": {
        "id": "-4uFq5nlArFT"
      }
    },
    {
      "cell_type": "markdown",
      "source": [
        "**Rotate matrix 90 degree**"
      ],
      "metadata": {
        "id": "08WYPpp7Ax2W"
      }
    },
    {
      "cell_type": "code",
      "source": [
        "def rotate_matrix(matrix):\n",
        "  n = len(matrix)\n",
        "  temp = [[0]*n for _ in range(n)]\n",
        "  for i in range(n):\n",
        "    for j in range(n):\n",
        "      temp[i][j] = matrix[i][j]\n",
        "    for i in range(n):\n",
        "      for j in range(n/2):\n",
        "        temp[i][j], temp[i][n-i-1] = temp[i][n-i-1], temp[i][j]\n",
        "    return temp\n",
        "n = int(input())\n",
        "matrix = [\n",
        "    [1,2,3],\n",
        "    [4,5,6],\n",
        "    [7,8,9]\n",
        "]\n",
        "#print('Enter matrix values row by row ')\n",
        "for _ in range(n):\n",
        "  row = list(map(int, input().split()))\n",
        "  matrix.append(row)\n",
        "rotated_matrix = rotate_matrix(matrix)\n",
        "print('After Rotation ')\n",
        "for row in rotated_matrix:\n",
        "  print(''.join(map(str, row)))"
      ],
      "metadata": {
        "id": "xnBH6uwIHKmS"
      },
      "execution_count": null,
      "outputs": []
    },
    {
      "cell_type": "markdown",
      "source": [
        "Binary seach in an matrix"
      ],
      "metadata": {
        "id": "oaVaL-U6a5pV"
      }
    },
    {
      "cell_type": "code",
      "source": [
        "def binarySearch(matrix, target):\n",
        "  if not matrix or not matrix[0]:\n",
        "    return (-1, -1)\n",
        "  rows = len(matrix)\n",
        "  cols = len(matrix[0])\n",
        "  l, r = 0, rows * cols - 1\n",
        "  while l <= r:\n",
        "    m = (l + r) // 2\n",
        "    row_index = m // cols\n",
        "    col_index= m % cols\n",
        "    mid_val = matrix[row_index][col_index]\n",
        "    if mid_val == target:\n",
        "      return (row_index, col_index)\n",
        "    elif mid_val < target:\n",
        "      l = m + 1\n",
        "    else:\n",
        "      r = m - 1\n",
        "  return (-1,-1)\n",
        "matrix = [\n",
        "    [1,3,5,7],\n",
        "    [10,11,16,20],\n",
        "    [23,30,34,60]\n",
        "]\n",
        "target = 30\n",
        "res = binarySearch(matrix, target)\n",
        "if res != (-1, -1):\n",
        "  print(f\"{res[0]} and {res[1]} \")\n",
        "else:\n",
        "  print('Not Found')"
      ],
      "metadata": {
        "colab": {
          "base_uri": "https://localhost:8080/"
        },
        "id": "bipm_ReDa8vw",
        "outputId": "7f96eb1e-a5e3-4606-efc9-b39ed6909063"
      },
      "execution_count": null,
      "outputs": [
        {
          "output_type": "stream",
          "name": "stdout",
          "text": [
            "2 and 1 \n"
          ]
        }
      ]
    },
    {
      "cell_type": "markdown",
      "source": [
        "# Bit Manipulation"
      ],
      "metadata": {
        "id": "nn6qmDdtdQ33"
      }
    },
    {
      "cell_type": "markdown",
      "source": [
        "Bit Masking"
      ],
      "metadata": {
        "id": "36N04XwHdWHm"
      }
    },
    {
      "cell_type": "code",
      "source": [
        "# Check Bit\n",
        "def check_bit(num , pos):\n",
        "  return (num & (1<<pos)) != 0\n",
        "\n",
        "# Set Bit\n",
        "def set_bit(num, pos):\n",
        "  return num | (1<<pos)\n",
        "\n",
        "# Clear Bit\n",
        "def clear_bit(num, pos):\n",
        "  return num & ~(1<<pos)\n",
        "\n",
        "# Update Bit\n",
        "def update_bit(num, pos, val):\n",
        "  mask = ~(1<<pos)\n",
        "  num &= mask\n",
        "  return num | (val<<pos)\n",
        "\n",
        "num = 5  # binary: 101\n",
        "pos = 1\n",
        "\n",
        "print(f\"Bit at position {pos} is {'set' if check_bit(num, pos) else 'not set'}\")\n",
        "\n",
        "num = set_bit(num, pos)\n",
        "print(f\"Number after setting bit at position {pos}: {num} (binary: {bin(num)})\")\n",
        "\n",
        "num = clear_bit(num, pos)\n",
        "print(f\"Number after clearing bit at position {pos}: {num} (binary: {bin(num)})\")\n",
        "\n",
        "val = 0\n",
        "num = update_bit(num, pos, val)\n",
        "print(f\"Number after updating bit at position {pos} to {val}: {num} (binary: {bin(num)})\")"
      ],
      "metadata": {
        "colab": {
          "base_uri": "https://localhost:8080/"
        },
        "id": "4LTSTAf9dh3d",
        "outputId": "66109375-4b4a-4d7d-a876-2ad471c6a6b9"
      },
      "execution_count": null,
      "outputs": [
        {
          "output_type": "stream",
          "name": "stdout",
          "text": [
            "Bit at position 1 is not set\n",
            "Number after setting bit at position 1: 7 (binary: 0b111)\n",
            "Number after clearing bit at position 1: 5 (binary: 0b101)\n",
            "Number after updating bit at position 1 to 0: 5 (binary: 0b101)\n"
          ]
        }
      ]
    },
    {
      "cell_type": "markdown",
      "source": [
        "Power of 2"
      ],
      "metadata": {
        "id": "PJAaBqOOe3Qw"
      }
    },
    {
      "cell_type": "code",
      "source": [
        "def power_of_2(n):\n",
        "  if n <= 0:\n",
        "    return False\n",
        "  return (n & (n-1)) == 0\n",
        "if __name__ == '__main__':\n",
        "  n = int(input())\n",
        "  if power_of_2(n):\n",
        "    print('true')\n",
        "  else:\n",
        "    print('false')"
      ],
      "metadata": {
        "colab": {
          "base_uri": "https://localhost:8080/"
        },
        "id": "qqz4sGl5dsei",
        "outputId": "abd001bb-74c2-4103-f949-091d72f2be0f"
      },
      "execution_count": null,
      "outputs": [
        {
          "output_type": "stream",
          "name": "stdout",
          "text": [
            "16\n",
            "true\n"
          ]
        }
      ]
    },
    {
      "cell_type": "markdown",
      "source": [
        "power of 4"
      ],
      "metadata": {
        "id": "x3ugPFjjfcJj"
      }
    },
    {
      "cell_type": "code",
      "source": [
        "def power_of_4(n):\n",
        "    if n <= 0 or (n & (n - 1)) != 0:\n",
        "        return False\n",
        "    return n % 3 == 1\n",
        "\n",
        "if __name__ == '__main__':\n",
        "    n = int(input(\"Enter a number: \"))\n",
        "    if power_of_4(n):\n",
        "        print('true')\n",
        "    else:\n",
        "        print('false')"
      ],
      "metadata": {
        "colab": {
          "base_uri": "https://localhost:8080/"
        },
        "id": "VWoP2nByfdyn",
        "outputId": "d1d9aa3a-24ef-49dc-cd76-a84a9151291a"
      },
      "execution_count": null,
      "outputs": [
        {
          "output_type": "stream",
          "name": "stdout",
          "text": [
            "Enter a number: 16\n",
            "true\n"
          ]
        }
      ]
    },
    {
      "cell_type": "markdown",
      "source": [
        "Power of 3"
      ],
      "metadata": {
        "id": "l8JZTBYCZwHF"
      }
    },
    {
      "cell_type": "code",
      "source": [
        "def power_of_3(n):\n",
        "  if n < 3 and n != 1:\n",
        "    return False\n",
        "  while n > 1:\n",
        "    if n % 3 != 0:\n",
        "      return False\n",
        "    n = n//3\n",
        "  return True\n",
        "if __name__ == '__main__':\n",
        "    n = int(input(\"Enter a number: \"))\n",
        "    if power_of_3(n):\n",
        "        print('true')\n",
        "    else:\n",
        "        print('false')"
      ],
      "metadata": {
        "colab": {
          "base_uri": "https://localhost:8080/"
        },
        "id": "hropWc0EZ2Kt",
        "outputId": "0858c012-cb0b-48b8-cf58-45131e2c5adf"
      },
      "execution_count": null,
      "outputs": [
        {
          "output_type": "stream",
          "name": "stdout",
          "text": [
            "Enter a number: 27\n",
            "true\n"
          ]
        }
      ]
    },
    {
      "cell_type": "markdown",
      "source": [
        "Duplicate Elements"
      ],
      "metadata": {
        "id": "FHpZLhPMa9jY"
      }
    },
    {
      "cell_type": "code",
      "source": [
        "def find_single(arr):\n",
        "  res = arr[0]\n",
        "  for num in arr[1:]:\n",
        "    res ^= num\n",
        "  return res\n",
        "arr = [1,3,1,3,5]\n",
        "find_single(arr)"
      ],
      "metadata": {
        "colab": {
          "base_uri": "https://localhost:8080/"
        },
        "id": "qxzU5zgnbCqh",
        "outputId": "f99e987a-b868-409f-f6ab-14a9fba44d91"
      },
      "execution_count": null,
      "outputs": [
        {
          "output_type": "execute_result",
          "data": {
            "text/plain": [
              "5"
            ]
          },
          "metadata": {},
          "execution_count": 2
        }
      ]
    },
    {
      "cell_type": "markdown",
      "source": [
        "Minimum Flips"
      ],
      "metadata": {
        "id": "_RdYiI5_c3Na"
      }
    },
    {
      "cell_type": "code",
      "source": [
        "def flips(a,b,c):\n",
        "  s = 0\n",
        "  while a or b or c:\n",
        "    x = a & 1\n",
        "    y = b & 1\n",
        "    z = c & 1\n",
        "    if (x | y) != z:\n",
        "      if x & y:\n",
        "        s += 2\n",
        "      else:\n",
        "        s += 1\n",
        "    a >>= 1\n",
        "    b >>= 1\n",
        "    c >>= 1\n",
        "  return s\n",
        "a = 2\n",
        "b = 6\n",
        "c = 5\n",
        "flips(a,b,c)"
      ],
      "metadata": {
        "colab": {
          "base_uri": "https://localhost:8080/"
        },
        "id": "zjScBtvdc6Zn",
        "outputId": "0f20653c-bdfe-47d2-acbf-0b3ef9538a63"
      },
      "execution_count": null,
      "outputs": [
        {
          "output_type": "execute_result",
          "data": {
            "text/plain": [
              "3"
            ]
          },
          "metadata": {},
          "execution_count": 3
        }
      ]
    },
    {
      "cell_type": "markdown",
      "source": [
        "# Application of Searching and Sorting (Divide & Conquer)"
      ],
      "metadata": {
        "id": "elnzlVQaLycQ"
      }
    },
    {
      "cell_type": "markdown",
      "source": [
        "**Binary Search**"
      ],
      "metadata": {
        "id": "iZMSw4qCL-7S"
      }
    },
    {
      "cell_type": "code",
      "source": [
        "def binarySearch(arr, left, right, item):\n",
        "  if right >= left:\n",
        "    mid = (left + right)//2\n",
        "    if arr[mid] == item:\n",
        "      return mid + 1\n",
        "    elif arr[mid] < item:\n",
        "      return binarySearch(arr, mid+1, right, item)\n",
        "    else:\n",
        "      return binarySearch(arr, left, mid-1, item)\n",
        "  else:\n",
        "    return -1\n",
        "arr = [10,11,12,15,17,3,16,21,14]\n",
        "arr.sort()\n",
        "n = len(arr)\n",
        "left = 0\n",
        "right = n-1\n",
        "item = 14\n",
        "binarySearch(arr, left, right, item)"
      ],
      "metadata": {
        "colab": {
          "base_uri": "https://localhost:8080/"
        },
        "id": "t756PFzqL8iY",
        "outputId": "11f201dc-c5da-4eef-f33b-281eae3144ab"
      },
      "execution_count": null,
      "outputs": [
        {
          "output_type": "execute_result",
          "data": {
            "text/plain": [
              "5"
            ]
          },
          "metadata": {},
          "execution_count": 2
        }
      ]
    },
    {
      "cell_type": "markdown",
      "source": [
        "**Merge Sort**"
      ],
      "metadata": {
        "id": "O5sZUCC0ftyq"
      }
    },
    {
      "cell_type": "code",
      "source": [
        "def merge_sort(arr, start, end):\n",
        "    if start < end:\n",
        "        mid = start + (end - start) // 2\n",
        "        merge_sort(arr, start, mid)\n",
        "        merge_sort(arr, mid + 1, end)\n",
        "        merge(arr, start, mid, end)\n",
        "\n",
        "def merge(arr, start, mid, end):\n",
        "    temp = [0] * (end - start + 1)\n",
        "    i, j, k = start, mid + 1, 0\n",
        "\n",
        "    while i <= mid and j <= end:\n",
        "        if arr[i] < arr[j]:\n",
        "            temp[k] = arr[i]\n",
        "            i += 1\n",
        "        else:\n",
        "            temp[k] = arr[j]\n",
        "            j += 1\n",
        "        k += 1\n",
        "\n",
        "    while i <= mid:\n",
        "        temp[k] = arr[i]\n",
        "        i += 1\n",
        "        k += 1\n",
        "\n",
        "    while j <= end:\n",
        "        temp[k] = arr[j]\n",
        "        j += 1\n",
        "        k += 1\n",
        "\n",
        "    for i in range(start, end + 1):\n",
        "        arr[i] = temp[i - start]\n",
        "\n",
        "def display(arr):\n",
        "    for item in arr:\n",
        "        print(item, end=' ')\n",
        "    print()\n",
        "\n",
        "def main():\n",
        "    arr = [11, 9, 6, 19, 33, 64, 15, 75, 67, 88]\n",
        "    size = len(arr)\n",
        "    display(arr)\n",
        "    merge_sort(arr, 0, size - 1)\n",
        "    display(arr)\n",
        "\n",
        "if __name__ == \"__main__\":\n",
        "    main()\n"
      ],
      "metadata": {
        "colab": {
          "base_uri": "https://localhost:8080/"
        },
        "id": "mMMR03zufyJ-",
        "outputId": "2014c825-d9ad-4036-d88f-fbcd23f37ac7"
      },
      "execution_count": null,
      "outputs": [
        {
          "output_type": "stream",
          "name": "stdout",
          "text": [
            "11 9 6 19 33 64 15 75 67 88 \n",
            "6 9 11 15 19 33 64 67 75 88 \n"
          ]
        }
      ]
    },
    {
      "cell_type": "markdown",
      "source": [
        "Find Closest Element in an Array"
      ],
      "metadata": {
        "id": "Ot-FlgyQpk2V"
      }
    },
    {
      "cell_type": "code",
      "source": [
        "def findclosest(arr, n, target):\n",
        "  if arr[0] >= target:\n",
        "    return arr[0]\n",
        "  if arr[n-1] <= target:\n",
        "    return arr[n-1]\n",
        "  left, right = 0, n\n",
        "  while left < right:\n",
        "    mid = left + (right - left)//2\n",
        "\n",
        "    if arr[mid] == target:\n",
        "      return arr[mid]\n",
        "\n",
        "    if arr[mid] > target:\n",
        "      if mid > 0 and target > arr[mid-1]:\n",
        "        # left hand side\n",
        "        if target - arr[mid-1] >= arr[mid] - target:\n",
        "          return arr[mid]\n",
        "        else:\n",
        "          return arr[mid-1]\n",
        "      right = mid\n",
        "\n",
        "    else:\n",
        "      if mid < n-1 and target < arr[mid+1]:\n",
        "        # right hand side\n",
        "        if target - arr[mid] >= arr[mid+1]-target:\n",
        "          return arr[mid+1]\n",
        "        else:\n",
        "          return arr[mid]\n",
        "      left = mid + 1\n",
        "\n",
        "  return arr[mid]\n",
        "\n",
        "arr = [1,2,2,3,6,6,9,10,14]\n",
        "n = len(arr)\n",
        "target = 11\n",
        "print(findclosest(arr, n, target))"
      ],
      "metadata": {
        "colab": {
          "base_uri": "https://localhost:8080/"
        },
        "id": "N2F2GbZKppk9",
        "outputId": "cdef0562-4ed7-4386-e4ac-533af8de2eb5"
      },
      "execution_count": null,
      "outputs": [
        {
          "output_type": "stream",
          "name": "stdout",
          "text": [
            "10\n"
          ]
        }
      ]
    },
    {
      "cell_type": "markdown",
      "source": [
        "Pokeman Gotta Win"
      ],
      "metadata": {
        "id": "cICUJXmY2IDo"
      }
    },
    {
      "cell_type": "code",
      "source": [
        "def check(n,m,x,y,mid):\n",
        "  return m+(y*(n-mid-1))-(x*mid) > 0\n",
        "\n",
        "def countPokemon(n,m,x,y):\n",
        "  low = 0\n",
        "  high = n\n",
        "  mid = 0\n",
        "  while low < high:\n",
        "    mid = low + (high-low)//2\n",
        "    if check(n,m,x,y,mid):\n",
        "      low = mid + 1\n",
        "    else:\n",
        "      high = mid - 1\n",
        "  return mid\n",
        "\n",
        "n = 3\n",
        "m = 10\n",
        "x = 4\n",
        "y = 2\n",
        "countPokemon(n,m,x,y)"
      ],
      "metadata": {
        "colab": {
          "base_uri": "https://localhost:8080/"
        },
        "id": "DKnYXrzW2LTf",
        "outputId": "f840440d-bd43-4d89-dc4f-552e73d14b1f"
      },
      "execution_count": null,
      "outputs": [
        {
          "output_type": "execute_result",
          "data": {
            "text/plain": [
              "2"
            ]
          },
          "metadata": {},
          "execution_count": 6
        }
      ]
    },
    {
      "cell_type": "markdown",
      "source": [
        "Largest Stick"
      ],
      "metadata": {
        "id": "vcz_wH49gDk2"
      }
    },
    {
      "cell_type": "code",
      "source": [
        "def check_cut_stick(height,cut,n):\n",
        "  cnt = sum(h//cut for h in height)\n",
        "\n",
        "def find_max_height(height,n,max_height,x):\n",
        "  l,h = 0,max_height\n",
        "  ans = -1\n",
        "  while l <= h:\n",
        "    m = l+(h-1)//2\n",
        "    if check_cut_stick(height,n,max_height,x):\n",
        "      ans = m\n",
        "      l = m+1\n",
        "    else:\n",
        "      h = m-1\n",
        "  return ans\n",
        "\n",
        "def main():\n",
        "  n,x = map(int,input().strip())\n",
        "  height = list(map(int,input().strip()))\n",
        "  height.sort()\n",
        "  max_height = max(height)\n",
        "  find_max_height(height,n,max_height,x)"
      ],
      "metadata": {
        "id": "ixaUZa2VgF9f"
      },
      "execution_count": null,
      "outputs": []
    },
    {
      "cell_type": "markdown",
      "source": [
        "Aggresive Cows"
      ],
      "metadata": {
        "id": "XQm3697XwJz4"
      }
    },
    {
      "cell_type": "code",
      "source": [
        "def check(num, stalls, N ,C):\n",
        "  cows = 1\n",
        "  pos = stalls[0]\n",
        "  for i in range(1,N):\n",
        "    if stalls[i]-pos >= num:\n",
        "      pos = stalls[i]\n",
        "      cows += 1\n",
        "      if cows == C:\n",
        "        return True\n",
        "  return False\n",
        "\n",
        "def binary_search(stalls,N,C):\n",
        "  l,h=0,stalls[N-1]\n",
        "  max_dis = -1\n",
        "  while l <= h:\n",
        "    m = (l+h)//2\n",
        "    if check(m,stalls,N,C):\n",
        "      if m > max_dis:\n",
        "        max_dis = m\n",
        "      l = m+1\n",
        "    else:\n",
        "      h = m-1\n",
        "  return max_dis\n",
        "\n",
        "def main():\n",
        "  t = int(input())\n",
        "  for _ in range(t):\n",
        "    N,C = map(int, input().split())\n",
        "    stalls = list(map(int,input().split()))\n",
        "    stalls.sort()\n",
        "    ans = binary_search(stalls,N,C)\n",
        "    print(ans)\n",
        "if __name__ == '__main__':\n",
        "  main()"
      ],
      "metadata": {
        "colab": {
          "base_uri": "https://localhost:8080/"
        },
        "id": "iazvuWCkwMy7",
        "outputId": "b79e3625-4506-493b-d655-1d742f4e21c7"
      },
      "execution_count": null,
      "outputs": [
        {
          "output_type": "stream",
          "name": "stdout",
          "text": [
            "1\n",
            "5 3\n",
            "1 2 8 4 9\n",
            "3\n"
          ]
        }
      ]
    },
    {
      "cell_type": "markdown",
      "source": [
        "Chef's Restuarnt"
      ],
      "metadata": {
        "id": "bayR1e0T9HV2"
      }
    },
    {
      "cell_type": "code",
      "source": [
        "start = [9, 20, 2, 3, 4]\n",
        "end = [10, 30, 3, 4, 5]\n",
        "n = len(start)\n",
        "vect = []\n",
        "\n",
        "for i in range(n):\n",
        "    vect.append([start[i], end[i]])\n",
        "\n",
        "vect = sorted(vect, key=lambda x: (x[0]))\n",
        "\n",
        "print(\"Time of workers' arrival\")\n",
        "for i in range(n):\n",
        "    print(vect[i][0], vect[i][1])\n",
        "\n",
        "ArrivalTime = 8\n",
        "time = vect[0][0]\n",
        "i = 0\n",
        "ans = -1\n",
        "\n",
        "print(\"For arrival at\", ArrivalTime, \"Need to wait\")\n",
        "while ArrivalTime > time and i < n:\n",
        "    i += 1\n",
        "    time = vect[i][0]\n",
        "    if ArrivalTime > time:\n",
        "        ans = time - ArrivalTime\n",
        "\n",
        "if vect[i - 1][1] > ArrivalTime:\n",
        "    ans = 0\n",
        "\n",
        "print(ans if ans != -1 else \"No need to wait\", \"hours.\")\n"
      ],
      "metadata": {
        "colab": {
          "base_uri": "https://localhost:8080/"
        },
        "id": "yIXzKXos9K_c",
        "outputId": "be4532a7-3962-49c1-fcbb-3f0f1fe2af3d"
      },
      "execution_count": null,
      "outputs": [
        {
          "output_type": "stream",
          "name": "stdout",
          "text": [
            "Time of workers' arrival\n",
            "2 3\n",
            "3 4\n",
            "4 5\n",
            "9 10\n",
            "20 30\n",
            "For arrival at 8 Need to wait\n",
            "-4 hours.\n"
          ]
        }
      ]
    },
    {
      "cell_type": "markdown",
      "source": [
        "Pizzeria"
      ],
      "metadata": {
        "id": "2zU9vz4oXYl_"
      }
    },
    {
      "cell_type": "code",
      "source": [
        "def find_remaining_amount(arr,n,target):\n",
        "\n",
        "  if arr[0]>= target:\n",
        "    return arr[0]\n",
        "\n",
        "  if arr[n-1] <= target:\n",
        "    return arr[n-1]\n",
        "\n",
        "  i,j,mid = 0,n,0\n",
        "  while i < j:\n",
        "    mid = i +(j-i)//2\n",
        "\n",
        "    if arr[mid] == target:\n",
        "      return arr[mid]\n",
        "\n",
        "    if arr[mid] > target:\n",
        "      if mid > 0 and target > arr[mid-1]:\n",
        "        if target - arr[mid-1] >= arr[mid]-target:\n",
        "          return arr[mid]\n",
        "        else:\n",
        "          return arr[mid-1]\n",
        "      j = mid\n",
        "\n",
        "    else:\n",
        "      if mid < n-1 and target < arr[mid+1]:\n",
        "        if target - arr[mid] >= arr[mid+1]-target:\n",
        "          return arr[mid+1]\n",
        "        else:\n",
        "          return arr[mid]\n",
        "      i = mid+1\n",
        "\n",
        "def main():\n",
        "  n = 1\n",
        "  pizzeria = 5\n",
        "  amount = [10,2,6,4,1]\n",
        "  pocket_money = [19]\n",
        "  cum_amt = [0]*pizzeria\n",
        "  cum_amt[0] = amount[0]\n",
        "\n",
        "  for i in range(1,pizzeria):\n",
        "    cum_amt[i] = cum_amt[i-1]+amount[i]\n",
        "\n",
        "  rem_amt = 0\n",
        "  for i in range(n):\n",
        "    x = find_remaining_amount(cum_amt, pizzeria, pocket_money[i])\n",
        "    rem_amt += pocket_money[i]-x\n",
        "  print(rem_amt)\n",
        "\n",
        "if __name__ == '__main__':\n",
        "  main()"
      ],
      "metadata": {
        "colab": {
          "base_uri": "https://localhost:8080/"
        },
        "id": "VBaQFNzNXc81",
        "outputId": "78637c7c-54ae-46f4-c71c-a1216e0a7ab5"
      },
      "execution_count": null,
      "outputs": [
        {
          "output_type": "stream",
          "name": "stdout",
          "text": [
            "1\n"
          ]
        }
      ]
    },
    {
      "cell_type": "markdown",
      "source": [
        "Maximum SubArray"
      ],
      "metadata": {
        "id": "T_0kh0RPgoN7"
      }
    },
    {
      "cell_type": "code",
      "source": [
        "def max_crossing_sum(arr,l,m,h):\n",
        "\n",
        "  sum = 0\n",
        "  left_sum = float('-inf')\n",
        "  for i in range(m,l-1,-1):\n",
        "    sum += arr[i]\n",
        "    if sum > left_sum:\n",
        "      left_sum = sum\n",
        "\n",
        "  sum = 0\n",
        "  right_sum = float('-inf')\n",
        "  for i in range(m+1, h+1):\n",
        "    sum += arr[i]\n",
        "    if sum > right_sum:\n",
        "      reight_sum = sum\n",
        "\n",
        "  return max(left_sum + right_sum, max(left_sum, right_sum))\n",
        "\n",
        "def max_subarray_sum(arr,l,h):\n",
        "  if l == h:\n",
        "    return l\n",
        "  m = (l+h)//2\n",
        "  return max(max_subarray_sum(arr,l,m),max_subarray_sum(arr,m+1,h),max_crossing_sum(arr,l,m,h))\n",
        "\n",
        "def main():\n",
        "  arr = [2,3,4,-3,5,-9,7]\n",
        "  n = len(arr)\n",
        "  max_sum = max_subarray_sum(arr,0,n-1)\n",
        "  print(f\"{max_sum}\")\n",
        "\n",
        "if __name__ == '__main__':\n",
        "  main()"
      ],
      "metadata": {
        "colab": {
          "base_uri": "https://localhost:8080/"
        },
        "id": "dKQf3_MCgrVB",
        "outputId": "81c500d8-0ff1-4d6c-a9f7-e92fac5312aa"
      },
      "execution_count": null,
      "outputs": [
        {
          "output_type": "stream",
          "name": "stdout",
          "text": [
            "6\n"
          ]
        }
      ]
    },
    {
      "cell_type": "markdown",
      "source": [
        "What is Your Mobile Number?"
      ],
      "metadata": {
        "id": "JTfUnVZ11HuQ"
      }
    },
    {
      "cell_type": "code",
      "source": [
        "from itertools import product\n",
        "\n",
        "# Mapping from number to possible characters\n",
        "keypad_mapping = {\n",
        "    '2': ['a', 'b', 'c'],\n",
        "    '3': ['d', 'e', 'f'],\n",
        "    '4': ['g', 'h', 'i'],\n",
        "    '5': ['j', 'k', 'l'],\n",
        "    '6': ['m', 'n', 'o'],\n",
        "    '7': ['p', 'q', 'r', 's'],\n",
        "    '8': ['t', 'u', 'v'],\n",
        "    '9': ['w', 'x', 'y', 'z']\n",
        "}\n",
        "\n",
        "# Predefined contacts with their names\n",
        "contacts = {\n",
        "    \"charan\": \"242726\",\n",
        "    \"adi\": \"234\",\n",
        "    \"good\": \"4663\"\n",
        "}\n",
        "\n",
        "# Function to generate all possible letter combinations for a given number string\n",
        "def generate_combinations(digits):\n",
        "    if not digits:\n",
        "        return []\n",
        "\n",
        "    # Create a list of lists of characters corresponding to each digit\n",
        "    chars = [keypad_mapping[digit] for digit in digits if digit in keypad_mapping]\n",
        "\n",
        "    # Use itertools.product to generate all combinations\n",
        "    all_combinations = product(*chars)\n",
        "\n",
        "    # Join each combination tuple into a string\n",
        "    return [''.join(combination) for combination in all_combinations]\n",
        "\n",
        "# Function to find the contact name based on numeric input\n",
        "def find_contact_name(digits):\n",
        "    possible_combinations = generate_combinations(digits)\n",
        "\n",
        "    for name, num in contacts.items():\n",
        "        if num == digits:\n",
        "            return name\n",
        "    return \"Contact not found.\"\n",
        "\n",
        "# Test the function\n",
        "number_input = \"242726\"\n",
        "contact_name = find_contact_name(number_input)\n",
        "print(contact_name)  # Output should be \"charan\"\n"
      ],
      "metadata": {
        "colab": {
          "base_uri": "https://localhost:8080/"
        },
        "id": "TKILd6Ab0d4M",
        "outputId": "c04d6a5d-5c8e-4419-8235-5e2680a24ce4"
      },
      "execution_count": null,
      "outputs": [
        {
          "output_type": "stream",
          "name": "stdout",
          "text": [
            "charan\n"
          ]
        }
      ]
    },
    {
      "cell_type": "markdown",
      "source": [
        "Let's Rank the IQ"
      ],
      "metadata": {
        "id": "KlrD8I_qfAfN"
      }
    },
    {
      "cell_type": "code",
      "source": [
        "def checkForSorting(arr,n):\n",
        "    for i in range(n-1):\n",
        "        if arr[i]-arr[i+1]>0:\n",
        "            if arr[i]-arr[i+1]==1:\n",
        "                pass\n",
        "            else:\n",
        "                return False\n",
        "    return True\n",
        "\n",
        "t=int(input())\n",
        "for _ in range(t):\n",
        "    n=int(input())\n",
        "    arr=list(map(int,input().split()))\n",
        "    if checkForSorting(arr,n):\n",
        "        print(\"Possible\")\n",
        "    else:\n",
        "        print(\"Not possible\")"
      ],
      "metadata": {
        "colab": {
          "base_uri": "https://localhost:8080/"
        },
        "id": "163pywGMfEmZ",
        "outputId": "2cc3652f-a047-4388-8815-e6a30d1ec078"
      },
      "execution_count": null,
      "outputs": [
        {
          "output_type": "stream",
          "name": "stdout",
          "text": [
            "2\n",
            "4\n",
            "2 1 4 3\n",
            "Possible\n",
            "3\n",
            "5 4 3\n",
            "Possible\n"
          ]
        }
      ]
    },
    {
      "cell_type": "markdown",
      "source": [
        "# Dynamic Programming"
      ],
      "metadata": {
        "id": "bkk-9UGTMqxr"
      }
    },
    {
      "cell_type": "markdown",
      "source": [
        "Count the Possible decoding of digits"
      ],
      "metadata": {
        "id": "YnvN1So0ddmt"
      }
    },
    {
      "cell_type": "code",
      "source": [
        "def numDecodings(s: str):\n",
        "    if len(s) == 0 or (len(s) == 1 and s[0] == '0'):\n",
        "        return 0\n",
        "    return numDecodingsHelper(s, len(s))\n",
        "\n",
        "def numDecodingsHelper(s, n):\n",
        "    if n == 0 or n == 1:\n",
        "        return 1\n",
        "    count = 0\n",
        "    if s[n-1] > \"0\":\n",
        "        count = numDecodingsHelper(s, n-1)\n",
        "    if (s[n - 2] == '1'\n",
        "        or (s[n - 2] == '2'\n",
        "            and s[n - 1] < '7')):\n",
        "        count += numDecodingsHelper(s, n - 2)\n",
        "    return count\n",
        "\n",
        "digits = \"1234\"\n",
        "print(\"Count is \", numDecodings(digits))"
      ],
      "metadata": {
        "colab": {
          "base_uri": "https://localhost:8080/"
        },
        "id": "qOPleQ3Idozi",
        "outputId": "48270bb2-4855-40e8-c0ed-d82893f7a534"
      },
      "execution_count": null,
      "outputs": [
        {
          "output_type": "stream",
          "name": "stdout",
          "text": [
            "Count is  3\n"
          ]
        }
      ]
    },
    {
      "cell_type": "markdown",
      "source": [
        "Longest Increasing Subsequence"
      ],
      "metadata": {
        "id": "ZApGK2igmVgn"
      }
    },
    {
      "cell_type": "code",
      "source": [
        "def lis(arr):\n",
        "    n = len(arr)\n",
        "    lis = [1] * n\n",
        "\n",
        "    for i in range(1, n):\n",
        "        for j in range(0, i):\n",
        "            if arr[i] > arr[j] and lis[i] < lis[j] + 1:\n",
        "                lis[i] = lis[j] + 1\n",
        "\n",
        "    return max(lis)\n",
        "\n",
        "# Example usage\n",
        "arr = [10, 22, 9, 33, 21, 50, 41, 60]\n",
        "print(\"Length of lis is\", lis(arr))\n"
      ],
      "metadata": {
        "colab": {
          "base_uri": "https://localhost:8080/"
        },
        "id": "bOBQ6tdClpgo",
        "outputId": "468e6fbe-c64d-46f8-faa6-e887fbc51679"
      },
      "execution_count": null,
      "outputs": [
        {
          "output_type": "stream",
          "name": "stdout",
          "text": [
            "Length of lis is 5\n"
          ]
        }
      ]
    },
    {
      "cell_type": "markdown",
      "source": [
        "Stair Case Problem"
      ],
      "metadata": {
        "id": "24FiN-BRztMd"
      }
    },
    {
      "cell_type": "code",
      "source": [
        "def countwaysUtil(n,m):\n",
        "  if n <= 1:\n",
        "    return n\n",
        "  res = 0\n",
        "  for i in range(1, m+1):\n",
        "    if i > n:\n",
        "      break\n",
        "    res += countwaysUtil(n-i, m)\n",
        "  return res\n",
        "\n",
        "def countways(s,m):\n",
        "  return countwaysUtil(s+1,m)\n",
        "\n",
        "s = 4\n",
        "m = 2\n",
        "print(countways(s,m))"
      ],
      "metadata": {
        "colab": {
          "base_uri": "https://localhost:8080/"
        },
        "id": "qqfTbFxEzwiX",
        "outputId": "668a2cde-31e9-4738-fd3d-abbd047b39ca"
      },
      "execution_count": null,
      "outputs": [
        {
          "output_type": "stream",
          "name": "stdout",
          "text": [
            "5\n"
          ]
        }
      ]
    },
    {
      "cell_type": "markdown",
      "source": [
        "Coin Change Problem"
      ],
      "metadata": {
        "id": "9l8Hv767d0zO"
      }
    },
    {
      "cell_type": "code",
      "source": [
        "def coinsChange(coins, denomination, val):\n",
        "\n",
        "  if val == 0:\n",
        "    return 1\n",
        "  if val < 0:\n",
        "    return 0\n",
        "  if denomination <= 0 and val >= 1:\n",
        "    return 0\n",
        "  include = coinsChange(coins, denomination, val - coins[0])\n",
        "  exclude = coinsChange(coins[1:] , denomination - 1, val )\n",
        "  return include + exclude\n",
        "\n",
        "coins = [1,2,3]\n",
        "val = 4\n",
        "denomination = len(coins)\n",
        "coinsChange(coins, denomination, val)"
      ],
      "metadata": {
        "colab": {
          "base_uri": "https://localhost:8080/"
        },
        "id": "5BNw5b8Rd5VL",
        "outputId": "19c339ac-f43f-4ac3-b692-f47f2404d427"
      },
      "execution_count": null,
      "outputs": [
        {
          "output_type": "execute_result",
          "data": {
            "text/plain": [
              "4"
            ]
          },
          "metadata": {},
          "execution_count": 3
        }
      ]
    },
    {
      "cell_type": "markdown",
      "source": [
        "Traversing a Matrix using recursion"
      ],
      "metadata": {
        "id": "WjZwhQwfz8Ab"
      }
    },
    {
      "cell_type": "code",
      "source": [
        "def traverseMatrix(arr, curr_row, curr_col):\n",
        "\n",
        "  if curr_col >= M:\n",
        "    return 0\n",
        "  if curr_row >= N:\n",
        "    return 1\n",
        "  print(arr[curr_row][curr_col], end=' ')\n",
        "  if traverseMatrix(arr, curr_row, curr_col + 1) == 1:\n",
        "    return 1\n",
        "  return traverseMatrix(arr, curr_row + 1, 0)\n",
        "\n",
        "N = 3\n",
        "M = 3\n",
        "arr = [[1,2,3],[4,5,6],[7,8,9]]\n",
        "traverseMatrix(arr,0,0)"
      ],
      "metadata": {
        "colab": {
          "base_uri": "https://localhost:8080/"
        },
        "id": "aGDlBUZT0CDc",
        "outputId": "b6487586-95c7-48e6-b09a-99324e355e70"
      },
      "execution_count": null,
      "outputs": [
        {
          "output_type": "stream",
          "name": "stdout",
          "text": [
            "1 2 3 4 5 6 7 8 9 "
          ]
        },
        {
          "output_type": "execute_result",
          "data": {
            "text/plain": [
              "1"
            ]
          },
          "metadata": {},
          "execution_count": 1
        }
      ]
    },
    {
      "cell_type": "markdown",
      "source": [
        "Kadane's Algorithm (Maximum SubArray Sum)"
      ],
      "metadata": {
        "id": "-6l1GPQfENO7"
      }
    },
    {
      "cell_type": "code",
      "source": [
        "def maxSubArraySum(a,n):\n",
        "  max_so_far = 0\n",
        "  max_end = 0\n",
        "  for i in range(n):\n",
        "    max_end += a[i]\n",
        "    if max_so_far < max_end:\n",
        "      max_so_far = max_end\n",
        "    if max_end < 0:\n",
        "      max_end = 0\n",
        "  return max_so_far\n",
        "\n",
        "a=[-2,-3,4,-1,-2,1,5,-3]\n",
        "n=len(a)\n",
        "max_sum=maxSubArraySum(a,n)\n",
        "print(\"Maximum contiguous sum is\",max_sum)"
      ],
      "metadata": {
        "colab": {
          "base_uri": "https://localhost:8080/"
        },
        "id": "PnFgp1vMEXJy",
        "outputId": "85c5ab53-0972-41b9-f49a-22e59b70a8e9"
      },
      "execution_count": null,
      "outputs": [
        {
          "output_type": "stream",
          "name": "stdout",
          "text": [
            "Maximum contiguous sum is 7\n"
          ]
        }
      ]
    },
    {
      "cell_type": "markdown",
      "source": [
        "Longest Common Subsequence"
      ],
      "metadata": {
        "id": "n5imutqVSGEN"
      }
    },
    {
      "cell_type": "code",
      "source": [
        "def lcs(str1,str2):\n",
        "    if str1==\"\" or str2==\"\":\n",
        "        return 0\n",
        "    if str1[0]==str2[0]:\n",
        "        return 1+lcs(str1[1:],str2[1:])\n",
        "    return max(lcs(str1[1:],str2),lcs(str1,str2[1:]))\n",
        "\n",
        "str1=\"AEETAB\";\n",
        "str2=\"EWTWAYB\";\n",
        "print(\"Length of LCS is\",lcs(str1,str2))"
      ],
      "metadata": {
        "colab": {
          "base_uri": "https://localhost:8080/"
        },
        "id": "EOSPbAwbSLyN",
        "outputId": "2f6fb5b1-94e1-4583-dd6d-d5a2a745ce11"
      },
      "execution_count": null,
      "outputs": [
        {
          "output_type": "stream",
          "name": "stdout",
          "text": [
            "Length of LCS is 4\n"
          ]
        }
      ]
    },
    {
      "cell_type": "markdown",
      "source": [
        "Longest Common Subsequence (Optimized)"
      ],
      "metadata": {
        "id": "lMDJJWUjuziV"
      }
    },
    {
      "cell_type": "code",
      "source": [
        "def lcs(str1, str2):\n",
        "  m = len(str1)\n",
        "  n = len(str2)\n",
        "  dp = [[0 for x in range(n+1)] for x in range(m+1)]\n",
        "  for i in range(m+1):\n",
        "    for j in range(n+1):\n",
        "      if i == 0 or j == 0:\n",
        "        dp[i][j] = 0\n",
        "      elif str1[m-i] == str2[n-j]:\n",
        "        dp[i][j] = 1 + dp[i-1][j-1]\n",
        "      else:\n",
        "        dp[i][j] = max(dp[i-1][j], dp[i][j-1])\n",
        "  return dp[m][n]\n",
        "\n",
        "str1 = 'AEETAB'\n",
        "str2 = 'EWTWAYB'\n",
        "print(lcs(str1, str2))"
      ],
      "metadata": {
        "colab": {
          "base_uri": "https://localhost:8080/"
        },
        "id": "tUZOSgmau5DO",
        "outputId": "af91266a-3d0d-48ed-bfec-1085082fef5b"
      },
      "execution_count": null,
      "outputs": [
        {
          "output_type": "stream",
          "name": "stdout",
          "text": [
            "4\n"
          ]
        }
      ]
    },
    {
      "cell_type": "markdown",
      "source": [
        "1-0 Knapsack Problem"
      ],
      "metadata": {
        "id": "W4QUyC2UAqSL"
      }
    },
    {
      "cell_type": "code",
      "source": [
        "def knapSack(W, wt, val, n):\n",
        "  if n == 0 or W == 0:\n",
        "    return 0\n",
        "  if wt[n-1] > W:\n",
        "    return knapSack(W, wt, val, n-1)\n",
        "  return max(val[n-1]+knapSack(W-wt[n-1],wt,val,n-1), knapSack(W, wt, val, n-1))\n",
        "\n",
        "val=[60,100,120]\n",
        "wt=[10,20,30]\n",
        "W=50\n",
        "n=len(val)\n",
        "print(knapSack(W,wt,val,n))"
      ],
      "metadata": {
        "colab": {
          "base_uri": "https://localhost:8080/"
        },
        "id": "HDCOBru5Awgl",
        "outputId": "191a489b-90d2-4f2d-dba2-fbe079d926e6"
      },
      "execution_count": null,
      "outputs": [
        {
          "output_type": "stream",
          "name": "stdout",
          "text": [
            "220\n"
          ]
        }
      ]
    },
    {
      "cell_type": "markdown",
      "source": [
        "1-0 KnapSack Problem (Optimization)"
      ],
      "metadata": {
        "id": "dD6hsY-Qwkgj"
      }
    },
    {
      "cell_type": "code",
      "source": [
        "def knapSack(W,wt,val,n):\n",
        "  k = [[0 for x in range(W+1)] for x in range(n+1)]\n",
        "  for i in range(n+1):\n",
        "    for j in range(W+1):\n",
        "      if i == 0 or j == 0:\n",
        "        k[i][j] = 0\n",
        "      elif wt[i-1] <= j:\n",
        "        k[i][j] = max(val[i-1] + k[i-1][j-wt[i-1]], k[i-1][j])\n",
        "      else:\n",
        "        k[i][j] = k[i-1][j]\n",
        "  return k[n][W]\n",
        "\n",
        "val=[60,100,120]\n",
        "wt=[10,20,30]\n",
        "W=50\n",
        "n=len(val)\n",
        "print(knapSack(W,wt,val,n))"
      ],
      "metadata": {
        "colab": {
          "base_uri": "https://localhost:8080/"
        },
        "id": "L_q52FbqwqRa",
        "outputId": "50252a58-945e-4062-eb20-79e2186af501"
      },
      "execution_count": null,
      "outputs": [
        {
          "output_type": "stream",
          "name": "stdout",
          "text": [
            "220\n"
          ]
        }
      ]
    },
    {
      "cell_type": "markdown",
      "source": [
        "# Graphs"
      ],
      "metadata": {
        "id": "9ybydpj9MOFa"
      }
    },
    {
      "cell_type": "markdown",
      "source": [
        "DFS (Depth First Search)"
      ],
      "metadata": {
        "id": "D7YCStu_MQ6m"
      }
    },
    {
      "cell_type": "code",
      "source": [
        "class Graph:\n",
        "    def __init__(self, v, e):\n",
        "        self.v = v\n",
        "        self.e = e\n",
        "        self.adj = [[0 for _ in range(v)] for _ in range(v)]\n",
        "\n",
        "    def newEdge(self, start, end):\n",
        "        self.adj[start][end] = 1\n",
        "        self.adj[end][start] = 1\n",
        "\n",
        "    def DFS(self, start, visited):\n",
        "        print(start, end=\" \")\n",
        "        visited[start] = True\n",
        "        for i in range(self.v):\n",
        "            if self.adj[start][i] == 1 and not visited[i]:\n",
        "                self.DFS(i, visited)\n",
        "\n",
        "if __name__ == \"__main__\":\n",
        "    v, e = 8, 8\n",
        "    G = Graph(v, e)\n",
        "    G.newEdge(0, 1)\n",
        "    G.newEdge(0, 2)\n",
        "    G.newEdge(1, 3)\n",
        "    G.newEdge(2, 4)\n",
        "    G.newEdge(2, 6)\n",
        "    G.newEdge(6, 7)\n",
        "    G.newEdge(3, 5)\n",
        "    G.newEdge(5, 4)\n",
        "    visited = [False] * v\n",
        "    G.DFS(0, visited)\n"
      ],
      "metadata": {
        "colab": {
          "base_uri": "https://localhost:8080/"
        },
        "id": "ZpoY_ebFMV-a",
        "outputId": "459c7084-824d-4617-bbb5-9f52da646869"
      },
      "execution_count": null,
      "outputs": [
        {
          "output_type": "stream",
          "name": "stdout",
          "text": [
            "0 1 3 5 4 2 6 7 "
          ]
        }
      ]
    },
    {
      "cell_type": "markdown",
      "source": [
        "BFS (Breadth First Search)"
      ],
      "metadata": {
        "id": "1Y7QkPL8IF7E"
      }
    },
    {
      "cell_type": "code",
      "source": [
        "class Graph:\n",
        "    def __init__(self, v, e):\n",
        "        self.v = v\n",
        "        self.e = e\n",
        "        self.adj = [[0 for _ in range(v)] for _ in range(v)]\n",
        "\n",
        "    def new_edge(self, start, end):\n",
        "        self.adj[start][end] = 1\n",
        "        self.adj[end][start] = 1\n",
        "\n",
        "    def BFS(self, start):\n",
        "        visited = [False] * self.v\n",
        "        queue = []\n",
        "        queue.append(start)\n",
        "        visited[start] = True\n",
        "\n",
        "        while queue:\n",
        "            vis = queue.pop(0)\n",
        "            print(vis, end=\" \")\n",
        "\n",
        "            for i in range(self.v):\n",
        "                if self.adj[vis][i] == 1 and not visited[i]:\n",
        "                    queue.append(i)\n",
        "                    visited[i] = True\n",
        "\n",
        "if __name__ == \"__main__\":\n",
        "    v = 8\n",
        "    e = 9\n",
        "    G = Graph(v, e)\n",
        "    G.new_edge(0, 1)\n",
        "    G.new_edge(0, 2)\n",
        "    G.new_edge(1, 3)\n",
        "    G.new_edge(2, 4)\n",
        "    G.new_edge(3, 4)\n",
        "    G.new_edge(2, 6)\n",
        "    G.new_edge(6, 7)\n",
        "    G.new_edge(5, 4)\n",
        "\n",
        "    G.BFS(0)\n"
      ],
      "metadata": {
        "colab": {
          "base_uri": "https://localhost:8080/"
        },
        "id": "hc4bHCaKIJ6V",
        "outputId": "7553627e-7beb-4f24-ecaa-d779aec525d6"
      },
      "execution_count": null,
      "outputs": [
        {
          "output_type": "stream",
          "name": "stdout",
          "text": [
            "0 1 2 3 4 6 5 7 "
          ]
        }
      ]
    }
  ]
}